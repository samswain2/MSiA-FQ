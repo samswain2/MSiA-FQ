{
 "cells": [
  {
   "cell_type": "markdown",
   "metadata": {},
   "source": [
    "# Code Like a Pythonista: Idiomatic Python\n",
    "\n",
    "Inspired by book Writing Idiomatic Python by Jeff Knupp.\n",
    "\n",
    "### What?\n",
    "● Idioms in a programming language are a sort of\n",
    "lingua franca (bridge language, common language, ..) to let future readers know exactly\n",
    "what we’re trying to accomplish.\n",
    " \n",
    "● We may document our code extensively, write\n",
    "exhaustive unit tests, and hold code reviews three\n",
    "times a day, but the fact remains: when someone\n",
    "else needs to make changes, the code is king.\n",
    "\n",
    "**Always code as if the guy who ends up maintaining your code\n",
    "will be a violent psychopath who knows where you live.\n",
    "--John Woods comp.lang.c++   **\n",
    "\n",
    "### Why?\n",
    "● Helps maintainability\n",
    "● Easier to spot bugs\n",
    "● Easier to write and read\n",
    "● Often faster\n",
    "● Often shorter"
   ]
  },
  {
   "cell_type": "markdown",
   "metadata": {},
   "source": [
    "## Avoid placing multiple statements on a single line"
   ]
  },
  {
   "cell_type": "code",
   "execution_count": 17,
   "metadata": {},
   "outputs": [
    {
     "name": "stdout",
     "output_type": "stream",
     "text": [
      "120\n"
     ]
    }
   ],
   "source": [
    "#Bad\n",
    "N = 100; M = 20; print(N + M);\n"
   ]
  },
  {
   "cell_type": "code",
   "execution_count": 18,
   "metadata": {},
   "outputs": [
    {
     "name": "stdout",
     "output_type": "stream",
     "text": [
      "120\n"
     ]
    }
   ],
   "source": [
    "#Good\n",
    "N = 100\n",
    "M = 20\n",
    "print(N + M)"
   ]
  },
  {
   "cell_type": "markdown",
   "metadata": {},
   "source": [
    "## Avoid comparing directly to True, False, or None"
   ]
  },
  {
   "cell_type": "code",
   "execution_count": 2,
   "metadata": {},
   "outputs": [
    {
     "name": "stdout",
     "output_type": "stream",
     "text": [
      "BAD\n"
     ]
    }
   ],
   "source": [
    "#BAD\n",
    "x = bool()\n",
    "x = True\n",
    "if x == True:\n",
    "    print(\"BAD\")"
   ]
  },
  {
   "cell_type": "code",
   "execution_count": 3,
   "metadata": {},
   "outputs": [
    {
     "name": "stdout",
     "output_type": "stream",
     "text": [
      "GOOD\n"
     ]
    }
   ],
   "source": [
    "#GOOD\n",
    "x = bool()\n",
    "x = True\n",
    "if x:\n",
    "    print(\"GOOD\")"
   ]
  },
  {
   "cell_type": "markdown",
   "metadata": {},
   "source": [
    "## Avoid repeating variable name in compound if statement"
   ]
  },
  {
   "cell_type": "code",
   "execution_count": 4,
   "metadata": {},
   "outputs": [
    {
     "name": "stdout",
     "output_type": "stream",
     "text": [
      "True\n"
     ]
    }
   ],
   "source": [
    "#Bad\n",
    "is_generic_name = False\n",
    "name = 'Tom'\n",
    "if name == 'Tom' or name == 'Dick' or name == 'Harry':\n",
    "    is_generic_name = True\n",
    "print(is_generic_name)\n"
   ]
  },
  {
   "cell_type": "code",
   "execution_count": 6,
   "metadata": {},
   "outputs": [
    {
     "name": "stdout",
     "output_type": "stream",
     "text": [
      "False\n"
     ]
    }
   ],
   "source": [
    "#Good\n",
    "name = 'Tom'\n",
    "is_generic_name = name in ('Tom', 'Dick', 'Harry')\n",
    "print(is_generic_name)"
   ]
  },
  {
   "cell_type": "markdown",
   "metadata": {},
   "source": [
    "## Avoid placing conditional branch code on the same line as the colon\n",
    "\n",
    "**Using indentation to indicate scope like you already do everywhere else in Python"
   ]
  },
  {
   "cell_type": "code",
   "execution_count": 1,
   "metadata": {},
   "outputs": [
    {
     "name": "stdout",
     "output_type": "stream",
     "text": [
      "Jorge\n",
      "Chicago, IL\n"
     ]
    }
   ],
   "source": [
    "#Bad\n",
    "name = 'Jorge'\n",
    "address = 'Chicago, IL'\n",
    "if name: print(name); print(address)\n"
   ]
  },
  {
   "cell_type": "code",
   "execution_count": 22,
   "metadata": {},
   "outputs": [
    {
     "name": "stdout",
     "output_type": "stream",
     "text": [
      "Jorge\n",
      "Chicago, IL\n"
     ]
    }
   ],
   "source": [
    "#Good\n",
    "name = 'Jorge'\n",
    "address = 'Chicago, IL'\n",
    "if name:\n",
    "    print(name)\n",
    "    print(address)"
   ]
  },
  {
   "cell_type": "markdown",
   "metadata": {},
   "source": [
    "## Use the in keyword to iterate over an iterable"
   ]
  },
  {
   "cell_type": "code",
   "execution_count": 23,
   "metadata": {},
   "outputs": [
    {
     "name": "stdout",
     "output_type": "stream",
     "text": [
      "Larry\n",
      "Moe\n",
      "Curly\n"
     ]
    }
   ],
   "source": [
    "#Bad\n",
    "my_list = ['Larry', 'Moe', 'Curly']\n",
    "index = 0\n",
    "while index < len(my_list):\n",
    "    print (my_list[index])\n",
    "    index += 1\n"
   ]
  },
  {
   "cell_type": "code",
   "execution_count": 24,
   "metadata": {},
   "outputs": [
    {
     "name": "stdout",
     "output_type": "stream",
     "text": [
      "Larry\n",
      "Moe\n",
      "Curly\n"
     ]
    }
   ],
   "source": [
    "#Good\n",
    "my_list = ['Larry', 'Moe', 'Curly']\n",
    "for element in my_list:\n",
    "    print (element)"
   ]
  },
  {
   "cell_type": "markdown",
   "metadata": {},
   "source": [
    "## Use the “enumerate” function in loops instead of creating an “index” variable\n"
   ]
  },
  {
   "cell_type": "code",
   "execution_count": 25,
   "metadata": {},
   "outputs": [
    {
     "name": "stdout",
     "output_type": "stream",
     "text": [
      "0 Larry\n",
      "1 Moe\n",
      "2 Curly\n"
     ]
    }
   ],
   "source": [
    "#Bad\n",
    "my_container = ['Larry', 'Moe', 'Curly']\n",
    "index = 0\n",
    "for element in my_container:\n",
    "    print ('{} {}'.format(index, element))\n",
    "    index += 1\n"
   ]
  },
  {
   "cell_type": "code",
   "execution_count": 26,
   "metadata": {},
   "outputs": [
    {
     "name": "stdout",
     "output_type": "stream",
     "text": [
      "0 Larry\n",
      "1 Moe\n",
      "2 Curly\n"
     ]
    }
   ],
   "source": [
    "#Good\n",
    "my_container = ['Larry', 'Moe', 'Curly']\n",
    "for index, element in enumerate(my_container):\n",
    "    print ('{} {}'.format(index, element))"
   ]
  },
  {
   "cell_type": "markdown",
   "metadata": {},
   "source": [
    "## Use list comprehension to create a transformed version of an existing list\n",
    "\n",
    "* Listcomps are clear & concise, up to a point. \n",
    "* You can have multiple for-loops and if-conditions in a listcomp\n",
    "* if the conditions are complex, regular for loops should be used. \n",
    "* Applying the Zen of Python, choose the more readable way."
   ]
  },
  {
   "cell_type": "code",
   "execution_count": 27,
   "metadata": {},
   "outputs": [
    {
     "name": "stdout",
     "output_type": "stream",
     "text": [
      "[6, 8, 10, 12, 14]\n"
     ]
    }
   ],
   "source": [
    "#Bad\n",
    "original_list = range(10)\n",
    "new_list = list()\n",
    "for element in original_list:\n",
    "    if element % 2:\n",
    "        new_list.append(element + 5)\n",
    "print(new_list)"
   ]
  },
  {
   "cell_type": "code",
   "execution_count": 29,
   "metadata": {},
   "outputs": [],
   "source": [
    "#Good\n",
    "original_list = range(10)\n",
    "new_list = [element + 5 for element in original_list if element % 2]"
   ]
  },
  {
   "cell_type": "markdown",
   "metadata": {},
   "source": [
    "## Generator Expressions\n",
    "\n",
    "* Generator expressions (\"genexps\") are just like list comprehensions, \n",
    "* except that where listcomps are greedy, generator expressions are lazy. \n",
    "* Listcomps compute the entire result list all at once, as a list. \n",
    "* Generator expressions compute one value at a time, when needed, as individual values. \n",
    "* This is especially useful for long sequences where the computed list is just an intermediate step and not the final result.\n",
    "\n",
    "* The difference in syntax is that listcomps have square brackets, but generator expressions don't. \n",
    "* Generator expressions sometimes do require enclosing parentheses though, so you should always use them.\n",
    "* Rule of thumb:\n",
    " * Use a list comprehension when a computed list is the desired end result.\n",
    " * Use a generator expression when the computed list is just an intermediate step."
   ]
  },
  {
   "cell_type": "code",
   "execution_count": 32,
   "metadata": {
    "collapsed": true
   },
   "outputs": [
    {
     "name": "stdout",
     "output_type": "stream",
     "text": [
      "{'6': 'M', 1: 'F', 2: 'G', 3: 'H', 4: 'J', 5: 'K', 6: 'M', 7: 'N', '2': 'G', 9: 'U', 10: 'V', 11: 'X', 12: 'Z', '5': 'K', '9': 'U', '4': 'J', '1': 'F', '10': 'V', '12': 'Z', '7': 'N', 8: 'Q', '11': 'X', '3': 'H', '8': 'Q'}\n"
     ]
    }
   ],
   "source": [
    "# For example, if we were summing the squares of several billion integers, we'd run out of memory with list comprehensions!\n",
    "\n",
    "#total = sum(num * num for num in xrange(1, 1000000000))  - DO NOT RUN\n",
    "\n",
    "#Example:\n",
    "\n",
    "month_codes = dict((fn(i+1), code) for i, code in enumerate('FGHJKMNQUVXZ') for fn in (int, str))\n",
    "\n",
    "print(month_codes)"
   ]
  },
  {
   "cell_type": "markdown",
   "metadata": {},
   "source": [
    "## Generator expression\n",
    "\n",
    "* Use a generator expression instead of a function if:\n",
    " * You only need the function in one place\n",
    " * You are just going to iterate once through the values"
   ]
  },
  {
   "cell_type": "code",
   "execution_count": 63,
   "metadata": {},
   "outputs": [],
   "source": [
    "def grep(lines, searchtext):\n",
    "    for line in lines:\n",
    "        if searchtext in line:\n",
    "            yield line\n",
    "            \n",
    "lines = \"line 1 \\n line 2 \\n line 3\"\n",
    "matchingLines = (line for line in lines if searchtext in line)"
   ]
  },
  {
   "cell_type": "markdown",
   "metadata": {},
   "source": [
    "## Generators - complex functions\n",
    "\n",
    "* The yield keyword turns a function into a generator. \n",
    "* When you call a generator function, instead of running the code immediately Python returns a generator object.\n",
    "* The generator object is an iterator; it has a next method. \n",
    "\n",
    "**This is how a for loop really works. Python looks at the sequence supplied after the in keyword. \n",
    "If it's a simple container (such as a list, tuple, dictionary, set, or user-defined container) Python converts it into an iterator. If it's already an iterator, Python uses it directly.**\n"
   ]
  },
  {
   "cell_type": "code",
   "execution_count": 30,
   "metadata": {
    "collapsed": true
   },
   "outputs": [
    {
     "name": "stdout",
     "output_type": "stream",
     "text": [
      "0\n",
      "1\n",
      "2\n",
      "3\n",
      "4\n",
      "5\n",
      "6\n",
      "7\n",
      "8\n",
      "9\n"
     ]
    }
   ],
   "source": [
    "def my_range_generator(stop):\n",
    "    value = 0\n",
    "    while value < stop:\n",
    "        yield value\n",
    "        value += 1\n",
    "\n",
    "for i in my_range_generator(10):\n",
    "    print(i)"
   ]
  },
  {
   "cell_type": "markdown",
   "metadata": {},
   "source": [
    "## Use the default parameter of dict.get to provide default values\n"
   ]
  },
  {
   "cell_type": "code",
   "execution_count": 37,
   "metadata": {},
   "outputs": [
    {
     "name": "stdout",
     "output_type": "stream",
     "text": [
      "No Data\n"
     ]
    }
   ],
   "source": [
    "#Bad\n",
    "class_grades = {'id':1001, 'grade':5}\n",
    "log_severity = None\n",
    "if 'severity1' in configuration:\n",
    "    log_severity = configuration['grade']\n",
    "else:\n",
    "    log_severity = 'No Data'\n",
    "print(log_severity)"
   ]
  },
  {
   "cell_type": "code",
   "execution_count": 39,
   "metadata": {},
   "outputs": [
    {
     "name": "stdout",
     "output_type": "stream",
     "text": [
      "Info\n"
     ]
    }
   ],
   "source": [
    "#Good\n",
    "log_severity = class_grades.get('severity', 'Info')\n",
    "print(log_severity)"
   ]
  },
  {
   "cell_type": "markdown",
   "metadata": {},
   "source": [
    "## Use dict comprehension to build a dict clearly and efficiently\n",
    "\n",
    "Filter a list to construct a dictionary!\n",
    "(Recall that in list comprehension we filter a list to create another list)\n"
   ]
  },
  {
   "cell_type": "code",
   "execution_count": 41,
   "metadata": {},
   "outputs": [
    {
     "name": "stdout",
     "output_type": "stream",
     "text": [
      "{'Frank': 'frank@a.com', 'Jim': 'jim@a.com'}\n"
     ]
    }
   ],
   "source": [
    "#Bad\n",
    "users_list = [('Jim','jim@a.com'),('Kim',''),('Frank','frank@a.com')]\n",
    "user_with_email = {}\n",
    "for user in users_list:\n",
    "    if user[1]:\n",
    "        user_with_email[user[0]] = user[1]\n",
    "print(user_with_email)"
   ]
  },
  {
   "cell_type": "code",
   "execution_count": 43,
   "metadata": {},
   "outputs": [
    {
     "name": "stdout",
     "output_type": "stream",
     "text": [
      "{'Frank': 'frank@a.com', 'Jim': 'jim@a.com'}\n"
     ]
    }
   ],
   "source": [
    "#Good\n",
    "users_list = [('Jim','jim@a.com'),('Kim',''),('Frank','frank@a.com')]\n",
    "user_email = {user[0] : user[1] for user in users_list if user[0]}\n",
    "print(user_with_email)"
   ]
  },
  {
   "cell_type": "markdown",
   "metadata": {},
   "source": [
    "## Use set comprehension to generate sets concisely\n",
    "\n",
    "* The syntax is identical to list comprehension\n",
    "* Except for the enclosing characters\n",
    "* set behaves like a dictionary with keys but no values)"
   ]
  },
  {
   "cell_type": "code",
   "execution_count": 48,
   "metadata": {},
   "outputs": [
    {
     "name": "stdout",
     "output_type": "stream",
     "text": [
      "{'Jim', 'Thomas'}\n"
     ]
    }
   ],
   "source": [
    "# Bad\n",
    "users = ['Jim Winter', 'Thomas Winter','Thomas Fall']\n",
    "users_first_names = set()\n",
    "for user in users:\n",
    "    users_first_names.add(user.split()[0])\n",
    "    \n",
    "print(users_first_names)"
   ]
  },
  {
   "cell_type": "code",
   "execution_count": 50,
   "metadata": {},
   "outputs": [
    {
     "name": "stdout",
     "output_type": "stream",
     "text": [
      "{'Jim', 'Thomas'}\n"
     ]
    }
   ],
   "source": [
    "# Good\n",
    "users = ['Jim Winter', 'Thomas Winter','Thomas Fall']\n",
    "users_first_names = {user.split()[0] for user in users}\n",
    "\n",
    "print(users_first_names)"
   ]
  },
  {
   "cell_type": "markdown",
   "metadata": {},
   "source": [
    "## Use sets to eliminate duplicate entries from Iterable containers\n",
    "\n",
    "* Note that most often you do not need to convert the set back to a list\n",
    "* A set is an Iterable just like a list!\n",
    "* so you can use it in for loops, list comprehensions, etc."
   ]
  },
  {
   "cell_type": "code",
   "execution_count": 52,
   "metadata": {},
   "outputs": [
    {
     "name": "stdout",
     "output_type": "stream",
     "text": [
      "['jim', 'kim', 'alec']\n"
     ]
    }
   ],
   "source": [
    "#Bad\n",
    "employee_surnames = ('jim','kim','jim','alec')\n",
    "unique_surnames = []\n",
    "for surname in employee_surnames:\n",
    "    if surname not in unique_surnames:\n",
    "        unique_surnames.append(surname)\n",
    "print(unique_surnames)"
   ]
  },
  {
   "cell_type": "code",
   "execution_count": 51,
   "metadata": {},
   "outputs": [
    {
     "name": "stdout",
     "output_type": "stream",
     "text": [
      "{'kim', 'alec', 'jim'}\n"
     ]
    }
   ],
   "source": [
    "#Good\n",
    "employee_surnames = ('jim','kim','jim','alec')\n",
    "unique_surnames = set(employee_surnames)\n",
    "print(unique_surnames)"
   ]
  },
  {
   "cell_type": "markdown",
   "metadata": {},
   "source": [
    "## Understand and use the \"set\" mathematical set operations\n",
    "\n",
    "* Union: A | B\n",
    "* Intersection: A & B\n",
    "* Difference: A – B (Note: order matters here. A - B is not necessarily the same as B - A).\n",
    "* Symmetric Difference: ˆ B"
   ]
  },
  {
   "cell_type": "code",
   "execution_count": 55,
   "metadata": {},
   "outputs": [
    {
     "name": "stdout",
     "output_type": "stream",
     "text": [
      "['steve', 'jim']\n"
     ]
    }
   ],
   "source": [
    "# Bad\n",
    "most_active_users = ('alec','steve','jim','fred')\n",
    "most_popular_users = ('sam','steve','jim')\n",
    "popular_and_active_users = []\n",
    "for user in most_active_users:\n",
    "    if user in most_popular_users:\n",
    "        popular_and_active_users.append(user)\n",
    "print(popular_and_active_users)"
   ]
  },
  {
   "cell_type": "code",
   "execution_count": 53,
   "metadata": {},
   "outputs": [
    {
     "name": "stdout",
     "output_type": "stream",
     "text": [
      "{'steve', 'jim'}\n"
     ]
    }
   ],
   "source": [
    "# Good\n",
    "most_active_users = ('alec','steve','jim','fred')\n",
    "most_popular_users = ('sam','steve','jim')\n",
    "popular_and_active_users = set(most_active_users) & set(most_popular_users)\n",
    "print(popular_and_active_users)"
   ]
  },
  {
   "cell_type": "markdown",
   "metadata": {},
   "source": [
    "## Chain string functions to make a simple\n",
    "series of transformations more clear\n",
    "Too much chaining can make your code harder to follow.\n",
    "“No more than three chained functions” is a good rule of thumb.\n"
   ]
  },
  {
   "cell_type": "code",
   "execution_count": 59,
   "metadata": {},
   "outputs": [
    {
     "name": "stdout",
     "output_type": "stream",
     "text": [
      "THE THREE MUSKETEERS by ALEXANDRE DUMAS\n"
     ]
    }
   ],
   "source": [
    "#Bad\n",
    "book_info = ' The Three Musketeers: Alexandre Dumas'\n",
    "formatted_book_info = book_info.strip()\n",
    "formatted_book_info = formatted_book_info.upper()\n",
    "formatted_book_info = formatted_book_info.replace(':', ' by')\n",
    "print(formatted_book_info)"
   ]
  },
  {
   "cell_type": "code",
   "execution_count": 57,
   "metadata": {},
   "outputs": [
    {
     "name": "stdout",
     "output_type": "stream",
     "text": [
      "THE THREE MUSKETEERS by ALEXANDRE DUMAS\n"
     ]
    }
   ],
   "source": [
    "#Good\n",
    "book_info = ' The Three Musketeers: Alexandre Dumas'\n",
    "formatted_book_info = book_info.strip().upper().replace(':', ' by')\n",
    "print(formatted_book_info)"
   ]
  },
  {
   "cell_type": "markdown",
   "metadata": {},
   "source": [
    "## Prefer the format function for formatting strings\n"
   ]
  },
  {
   "cell_type": "code",
   "execution_count": 71,
   "metadata": {},
   "outputs": [
    {
     "name": "stdout",
     "output_type": "stream",
     "text": [
      "Name: James, Age: 30, Sex: M\n"
     ]
    }
   ],
   "source": [
    "#Bad\n",
    "def get_formatted_user_info_worst(name,age,sex):\n",
    "    # Tedious to type and prone to conversion errors\n",
    "    return 'Name: ' + name + ', Age: ' + str(age) + ', Sex: ' + sex\n",
    "print(get_formatted_user_info_worst('James',30,'M'))"
   ]
  },
  {
   "cell_type": "code",
   "execution_count": 72,
   "metadata": {},
   "outputs": [
    {
     "name": "stdout",
     "output_type": "stream",
     "text": [
      "Name: James, Age: 30, Sex: M\n"
     ]
    }
   ],
   "source": [
    "#Bad\n",
    "def get_formatted_user_info_slightly_better(name,age,sex):\n",
    "    # No visible connection between the format string placeholders\n",
    "    # and values to use. Also, why do I have to know the type?\n",
    "    return 'Name: %s, Age: %i, Sex: %c' % (name, age, sex)\n",
    "\n",
    "print(get_formatted_user_info_worst('James',30,'M'))"
   ]
  },
  {
   "cell_type": "code",
   "execution_count": 73,
   "metadata": {},
   "outputs": [
    {
     "name": "stdout",
     "output_type": "stream",
     "text": [
      "Name: James, Age: 30, Sex: M\n"
     ]
    }
   ],
   "source": [
    "#Good\n",
    "def get_formatted_user_info(name,age,sex):\n",
    "    # Clear and concise. At a glance I can tell exactly what\n",
    "    # the output should be.\n",
    "    output = 'Name: {name}, Age: {age}'', Sex: {sex}'.format(name,age,sex)\n",
    "    return output\n",
    "\n",
    "print(get_formatted_user_info_worst('James',30,'M'))"
   ]
  },
  {
   "cell_type": "markdown",
   "metadata": {},
   "source": [
    "## Use ''.join when creating a single string for list elements\n"
   ]
  },
  {
   "cell_type": "code",
   "execution_count": 70,
   "metadata": {},
   "outputs": [
    {
     "name": "stdout",
     "output_type": "stream",
     "text": [
      "TrueFalseFile not found\n"
     ]
    }
   ],
   "source": [
    "#Bad\n",
    "result_list = ['True', 'False', 'File not found']\n",
    "result_string = ''\n",
    "for result in result_list:\n",
    "    result_string += result\n",
    "print(result_string)"
   ]
  },
  {
   "cell_type": "code",
   "execution_count": 68,
   "metadata": {},
   "outputs": [
    {
     "name": "stdout",
     "output_type": "stream",
     "text": [
      "TrueFalseFile not found\n"
     ]
    }
   ],
   "source": [
    "#Good\n",
    "result_list = ['True', 'False', 'File not found']\n",
    "result_string = ''.join(result_list)\n",
    "print(result_string)"
   ]
  },
  {
   "cell_type": "markdown",
   "metadata": {},
   "source": [
    "## Use tuples to unpack data for multiple assignment\n"
   ]
  },
  {
   "cell_type": "code",
   "execution_count": 67,
   "metadata": {},
   "outputs": [
    {
     "name": "stdout",
     "output_type": "stream",
     "text": [
      "Fido the dog is 10 years old\n"
     ]
    }
   ],
   "source": [
    "#Bad\n",
    "l = ['dog', 'Fido', 10]\n",
    "animal = l[0]\n",
    "name = l[1]\n",
    "age = l[2]\n",
    "output = ('{name} the {animal} is {age} years old'.format(animal=animal, name=name, age=age))\n",
    "print(output)"
   ]
  },
  {
   "cell_type": "code",
   "execution_count": 66,
   "metadata": {},
   "outputs": [
    {
     "name": "stdout",
     "output_type": "stream",
     "text": [
      "Fido the dog is 10 years old\n"
     ]
    }
   ],
   "source": [
    "#Good\n",
    "l = ['dog', 'Fido', 10]\n",
    "(animal, name, age) = l\n",
    "output = ('{name} the {animal} is {age} years old'.format(animal=animal, name=name, age=age))\n",
    "print(output)"
   ]
  },
  {
   "cell_type": "markdown",
   "metadata": {},
   "source": [
    "## Avoid using a temporary variable when performing a swap of two values\n"
   ]
  },
  {
   "cell_type": "code",
   "execution_count": 64,
   "metadata": {
    "collapsed": true
   },
   "outputs": [],
   "source": [
    "#Bad\n",
    "foo = 'Foo'\n",
    "bar = 'Bar'\n",
    "temp = foo\n",
    "foo = bar\n",
    "bar = temp"
   ]
  },
  {
   "cell_type": "code",
   "execution_count": 65,
   "metadata": {
    "collapsed": true
   },
   "outputs": [],
   "source": [
    "#Good\n",
    "foo = 'Foo'\n",
    "bar = 'Bar'\n",
    "(foo, bar) = (bar, foo)"
   ]
  }
 ],
 "metadata": {
  "kernelspec": {
   "display_name": "Python 3",
   "language": "python",
   "name": "python3"
  },
  "language_info": {
   "codemirror_mode": {
    "name": "ipython",
    "version": 3
   },
   "file_extension": ".py",
   "mimetype": "text/x-python",
   "name": "python",
   "nbconvert_exporter": "python",
   "pygments_lexer": "ipython3",
   "version": "3.8.8"
  }
 },
 "nbformat": 4,
 "nbformat_minor": 1
}

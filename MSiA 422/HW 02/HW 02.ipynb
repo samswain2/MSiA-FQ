{
 "cells": [
  {
   "cell_type": "code",
   "execution_count": 16,
   "metadata": {},
   "outputs": [],
   "source": [
    "class new_sorted:\n",
    "    def __init__(self, arr, key, reverse = False):\n",
    "        # Check if list in inputted\n",
    "        if type(arr) == list and bool(reverse):\n",
    "            self.lst = arr\n",
    "            self.key = k\n",
    "            self.reversed = reverse\n",
    "        \n",
    "        # Let user know list not inputted for arr\n",
    "        elif type(arr) != list:\n",
    "            raise ValueError('new_sorted only accepts lists as attributes')\n",
    "        \n",
    "        # Let user know they entered wrong value for reverse\n",
    "        elif bool(reverse) == False:\n",
    "            raise ValueError('new_sorted only accepts lists as attributes')"
   ]
  }
 ],
 "metadata": {
  "kernelspec": {
   "display_name": "Python 3 (ipykernel)",
   "language": "python",
   "name": "python3"
  },
  "language_info": {
   "codemirror_mode": {
    "name": "ipython",
    "version": 3
   },
   "file_extension": ".py",
   "mimetype": "text/x-python",
   "name": "python",
   "nbconvert_exporter": "python",
   "pygments_lexer": "ipython3",
   "version": "3.10.4"
  }
 },
 "nbformat": 4,
 "nbformat_minor": 2
}

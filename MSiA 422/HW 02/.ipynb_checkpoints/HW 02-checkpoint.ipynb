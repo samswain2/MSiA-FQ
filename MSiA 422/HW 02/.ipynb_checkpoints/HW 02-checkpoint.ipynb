{
 "cells": [
  {
   "cell_type": "markdown",
   "metadata": {},
   "source": [
    "## Create new_sorted class containing two sorting functions"
   ]
  },
  {
   "cell_type": "code",
   "execution_count": 1,
   "metadata": {},
   "outputs": [],
   "source": [
    "# Create new_sorted class for two sorting functions for use in place if sorted()\n",
    "class MySorted:\n",
    "    # import time\n",
    "    import time\n",
    "    # Sorting function one (Bubble)\n",
    "    def bubble_sorted(arr, key = None, reverse = False):\n",
    "        # Get initial time\n",
    "        ft = time.perf_counter()\n",
    "        # Create comparisons and swaps vars to count number\n",
    "        # of comparisons and swaps\n",
    "        comparisons = 0 \n",
    "        swaps = 0\n",
    "        # Occurs if key doesn't exist\n",
    "        if not key:\n",
    "            # Loops through array indices\n",
    "            for _ in range(0, len(arr)):\n",
    "                # Check if actions are taken from last loop\n",
    "                try:\n",
    "                    # If no actions taken break loop,\n",
    "                    # no more swaps needed\n",
    "                    if swaps == temp:\n",
    "                        break\n",
    "                # Pass if actions may be needed\n",
    "                except NameError:\n",
    "                    pass\n",
    "                # Set temp to swaps to check for change is list\n",
    "                # from last loop\n",
    "                temp = swaps\n",
    "                # Checks each value against the next item in array\n",
    "                for i in range(0, len(arr)-1):\n",
    "                    # If the current value is greater than the next value\n",
    "                    # switch the two and move on to the next\n",
    "                    if arr[i] > arr[i+1]:\n",
    "                        arr[i], arr[i+1] = arr[i+1], arr[i]\n",
    "                        # Count swap\n",
    "                        swaps += 1\n",
    "                    # Count comparison\n",
    "                    comparisons += 1\n",
    "        # Occurs if key does exist\n",
    "        else:\n",
    "            # Loops through arr indices\n",
    "            for _ in range(0, len(arr)):\n",
    "                # Check if actions are taken from last loop\n",
    "                try:\n",
    "                    # If no actions taken break loop,\n",
    "                    # no more swaps needed\n",
    "                    if swaps == temp:\n",
    "                        break\n",
    "                # Pass if actions may be needed\n",
    "                except NameError:\n",
    "                    pass\n",
    "                # Set temp to swaps to check for change is list\n",
    "                # from last loop\n",
    "                temp = swaps\n",
    "                # Checks each value against the next item in array\n",
    "                for i in range(0, len(arr)-1):\n",
    "                    # If the specified value in the sublist is greater than\n",
    "                    # the number of the same index in the next array,\n",
    "                    # switch the whole array/class values\n",
    "                    if key(arr[i]) > key(arr[i+1]):\n",
    "                        arr[i], arr[i+1] = arr[i+1], arr[i]\n",
    "                        # Count swap\n",
    "                        swaps += 1\n",
    "                    # Count comparison\n",
    "                    comparisons += 1\n",
    "        # If reverse is set to true, return the reversed array and data\n",
    "        if reverse:\n",
    "            return {\"Sorted List\": arr[::-1], \"Comparisons\": comparisons, \n",
    "                    \"Swaps\": swaps, \"Runtime\": time.perf_counter() - ft}\n",
    "        # Return normal sorted array and data\n",
    "        return {\"Sorted List\": arr, \"Comparisons\": comparisons, \n",
    "                \"Swaps\": swaps, \"Runtime\": time.perf_counter() - ft}\n",
    "    \n",
    "    # Define merge sort function\n",
    "    def merge_sorted(a_list, key = None, reverse = False):\n",
    "        # Initialize time counter\n",
    "        ft = time.perf_counter()\n",
    "        # Check if key is given\n",
    "        if not key:\n",
    "            # Check if length of list is longer then 1\n",
    "            if len(a_list) > 1:\n",
    "                # Start comparisons\n",
    "                comparisons = 0\n",
    "                # Get middle index\n",
    "                mid = len(a_list) // 2\n",
    "                # Split lst into 2 down the middle\n",
    "                left_half = a_list[:mid]\n",
    "                right_half = a_list[mid:]\n",
    "                # Recursive\n",
    "                MySorted.merge_sorted(left_half)\n",
    "                MySorted.merge_sorted(right_half)\n",
    "\n",
    "                i = 0\n",
    "                j = 0\n",
    "                k = 0\n",
    "\n",
    "\n",
    "                while i < len(left_half) and j < len(right_half):\n",
    "                    # Count comparisons\n",
    "                    comparisons += 1\n",
    "                    if left_half[i] < right_half[j]:\n",
    "                        a_list[k] = left_half[i]\n",
    "                        i = i + 1\n",
    "                    else:\n",
    "                        a_list[k] = right_half[j]\n",
    "                        j = j + 1\n",
    "                    k = k + 1\n",
    "\n",
    "                while i < len(left_half):\n",
    "                    a_list[k] = left_half[i]\n",
    "                    i = i + 1\n",
    "                    k = k + 1\n",
    "\n",
    "                while j < len(right_half):\n",
    "                    a_list[k] = right_half[j]\n",
    "                    j = j + 1\n",
    "                    k = k + 1\n",
    "                # Check if list needs to be reversed \n",
    "                if reverse == True:\n",
    "                    # Return sorted list, # of comparisons and swaps, and runtime\n",
    "                    return {\"Sorted List\": a_list[::-1], \"Comparisons\": comparisons, \n",
    "                            \"Swaps\": 0, \"Runtime\": time.perf_counter() - ft}\n",
    "                else:\n",
    "                    # Return sorted list, # of comparisons and swaps, and runtime\n",
    "                    return {\"Sorted List\": a_list, \"Comparisons\": comparisons, \n",
    "                            \"Swaps\": 0, \"Runtime\": time.perf_counter() - ft}\n",
    "        # Check if key is given\n",
    "        else:\n",
    "            # Check if length of list is longer then 1\n",
    "            if len(a_list) > 1:\n",
    "                # Start comparisons\n",
    "                comparisons = 0\n",
    "                # Get middle index\n",
    "                mid = len(a_list) // 2\n",
    "                # Split lst into 2 down the middle\n",
    "                left_half = a_list[:mid]\n",
    "                right_half = a_list[mid:]\n",
    "                # Recursive\n",
    "                MySorted.merge_sorted(left_half, key = key)\n",
    "                MySorted.merge_sorted(right_half, key = key)\n",
    "\n",
    "                i = 0\n",
    "                j = 0\n",
    "                k = 0\n",
    "\n",
    "\n",
    "                while i < len(left_half) and j < len(right_half):\n",
    "                    # Count comparisons\n",
    "                    comparisons += 1\n",
    "                    if key(left_half[i]) < key(right_half[j]):\n",
    "                        a_list[k] = left_half[i]\n",
    "                        i = i + 1\n",
    "                    else:\n",
    "                        a_list[k] = right_half[j]\n",
    "                        j = j + 1\n",
    "                    k = k + 1\n",
    "\n",
    "                while i < len(left_half):\n",
    "                    a_list[k] = left_half[i]\n",
    "                    i = i + 1\n",
    "                    k = k + 1\n",
    "                    \n",
    "                while j < len(right_half):\n",
    "                    a_list[k] = right_half[j]\n",
    "                    j = j + 1\n",
    "                    k = k + 1\n",
    "                # Check if list needs to be reversed    \n",
    "                if reverse == True:\n",
    "                    # Return sorted list, # of comparisons and swaps, and runtime\n",
    "                    return {\"Sorted List\": a_list[::-1], \"Comparisons\": comparisons, \n",
    "                            \"Swaps\": 0, \"Runtime\": time.perf_counter() - ft}\n",
    "                else:\n",
    "                    # Return sorted list, # of comparisons and swaps, and runtime\n",
    "                    return {\"Sorted List\": a_list, \"Comparisons\": comparisons, \n",
    "                            \"Swaps\": 0, \"Runtime\": time.perf_counter() - ft}"
   ]
  },
  {
   "cell_type": "markdown",
   "metadata": {},
   "source": [
    "## Test Functions"
   ]
  },
  {
   "cell_type": "markdown",
   "metadata": {},
   "source": [
    "### Bubble Sort"
   ]
  },
  {
   "cell_type": "code",
   "execution_count": 2,
   "metadata": {},
   "outputs": [
    {
     "name": "stdout",
     "output_type": "stream",
     "text": [
      "Sam sort: {'Sorted List': [['a', 'b'], ['j', 'h'], ['m', 'x'], ['q', 'u'], ['v', 'c']], 'Comparisons': 12, 'Swaps': 3, 'Runtime': 8.600007276982069e-06}\n",
      "Sam sort: {'Sorted List': [[1, 3], [2, 2], [1, 4], [3, 2], [3, 2, 3], [5, 1], [2, 5], [6, 4], [5, 8], [5, 8]], 'Comparisons': 63, 'Swaps': 26, 'Runtime': 0.002381099999183789}\n",
      "Sam sort: {'Sorted List': ['a', 'c', 90, 'z'], 'Comparisons': 9, 'Swaps': 3, 'Runtime': 1.659998088143766e-05}\n",
      "Sam sort: {'Sorted List': [('john', 'A', 15), ('jane', 'B', 12), ('dave', 'B', 10)], 'Comparisons': 2, 'Swaps': 0, 'Runtime': 3.7999998312443495e-06}\n"
     ]
    }
   ],
   "source": [
    "import time\n",
    "import numpy as np\n",
    "\n",
    "arr = [[\"a\", \"b\"], [\"j\", \"h\"], [\"v\", \"c\"], [\"q\", \"u\"], [\"m\", \"x\"]]\n",
    "print(f\"Sam sort: {MySorted.bubble_sorted(arr, key = lambda x: x[0] , reverse=False)}\")\n",
    "\n",
    "arr2 = [[1, 3] ,[5, 1], [5, 8], [5, 8], [6, 4], [3, 2, 3], [2, 2], [2, 5], [1, 4], [3, 2]]\n",
    "print(f\"Sam sort: {MySorted.bubble_sorted(arr2, key = lambda x: np.mean(x), reverse=False)}\")\n",
    "\n",
    "def key40(x):\n",
    "    return sum([ord(item) for item in str(x)])\n",
    "arr3 = [90, 'a', 'z', 'c']\n",
    "print(f\"Sam sort: {MySorted.bubble_sorted(arr3, key = key40, reverse=False)}\")\n",
    "\n",
    "class Student:\n",
    "    def __init__(self, name, grade, age):\n",
    "        self.name = name\n",
    "        self.grade = grade\n",
    "        self.age = age\n",
    "    def __repr__(self):\n",
    "        return repr((self.name, self.grade, self.age))\n",
    "\n",
    "student_objects = [\n",
    "    Student('john', 'A', 15),\n",
    "    Student('jane', 'B', 12),\n",
    "    Student('dave', 'B', 10)]\n",
    "print(f\"Sam sort: {MySorted.bubble_sorted(student_objects, key = lambda student: student.grade , reverse=False)}\")"
   ]
  },
  {
   "cell_type": "markdown",
   "metadata": {},
   "source": [
    "### Merge Sort"
   ]
  },
  {
   "cell_type": "code",
   "execution_count": 3,
   "metadata": {},
   "outputs": [
    {
     "name": "stdout",
     "output_type": "stream",
     "text": [
      "Sam sort: {'Sorted List': [['a', 'b'], ['j', 'h'], ['m', 'x'], ['q', 'u'], ['v', 'c']], 'Comparisons': 2, 'Swaps': 0, 'Runtime': 1.2599979527294636e-05}\n",
      "Sam sort: {'Sorted List': [[2, 2], [1, 3], [3, 2], [1, 4], [3, 2, 3], [5, 1], [2, 5], [6, 4], [5, 8], [5, 8]], 'Comparisons': 7, 'Swaps': 0, 'Runtime': 0.0005568000196944922}\n",
      "Sam sort: {'Sorted List': ['a', 'c', 90, 'z'], 'Comparisons': 3, 'Swaps': 0, 'Runtime': 3.160000778734684e-05}\n",
      "Sam sort: {'Sorted List': [('john', 'A', 15), ('dave', 'B', 10), ('jane', 'B', 12)], 'Comparisons': 1, 'Swaps': 0, 'Runtime': 1.0300020221620798e-05}\n"
     ]
    }
   ],
   "source": [
    "import time\n",
    "import numpy as np\n",
    "\n",
    "arr = [[\"a\", \"b\"], [\"j\", \"h\"], [\"v\", \"c\"], [\"q\", \"u\"], [\"m\", \"x\"]]\n",
    "print(f\"Sam sort: {MySorted.merge_sorted(arr, key = lambda x: x[0] , reverse=False)}\")\n",
    "\n",
    "arr2 = [[1, 3] ,[5, 1], [5, 8], [5, 8], [6, 4], [3, 2, 3], [2, 2], [2, 5], [1, 4], [3, 2]]\n",
    "print(f\"Sam sort: {MySorted.merge_sorted(arr2, key = lambda x: np.mean(x), reverse=False)}\")\n",
    "\n",
    "def key40(x):\n",
    "    return sum([ord(item) for item in str(x)])\n",
    "arr3 = [90, 'a', 'z', 'c']\n",
    "print(f\"Sam sort: {MySorted.merge_sorted(arr3, key = key40, reverse=False)}\")\n",
    "\n",
    "class Student:\n",
    "    def __init__(self, name, grade, age):\n",
    "        self.name = name\n",
    "        self.grade = grade\n",
    "        self.age = age\n",
    "    def __repr__(self):\n",
    "        return repr((self.name, self.grade, self.age))\n",
    "\n",
    "student_objects = [\n",
    "    Student('john', 'A', 15),\n",
    "    Student('jane', 'B', 12),\n",
    "    Student('dave', 'B', 10)]\n",
    "print(f\"Sam sort: {MySorted.merge_sorted(student_objects, key = lambda student: student.grade , reverse=False)}\")"
   ]
  },
  {
   "cell_type": "markdown",
   "metadata": {},
   "source": [
    "### Testing Using hw2_tests.py"
   ]
  },
  {
   "cell_type": "code",
   "execution_count": 9,
   "metadata": {},
   "outputs": [
    {
     "name": "stdout",
     "output_type": "stream",
     "text": [
      "{'Sorted List': [1, 1, 2, 2, 3], 'Comparisons': 4, 'Swaps': 0, 'Runtime': 1.069999416358769e-05}\n"
     ]
    }
   ],
   "source": [
    "print(MySorted.merge_sorted([1, 2, 3, 2, 1]))"
   ]
  },
  {
   "cell_type": "markdown",
   "metadata": {},
   "source": [
    "## Analyzing Differences"
   ]
  },
  {
   "cell_type": "code",
   "execution_count": null,
   "metadata": {},
   "outputs": [],
   "source": []
  }
 ],
 "metadata": {
  "kernelspec": {
   "display_name": "Python 3 (ipykernel)",
   "language": "python",
   "name": "python3"
  },
  "language_info": {
   "codemirror_mode": {
    "name": "ipython",
    "version": 3
   },
   "file_extension": ".py",
   "mimetype": "text/x-python",
   "name": "python",
   "nbconvert_exporter": "python",
   "pygments_lexer": "ipython3",
   "version": "3.10.4"
  }
 },
 "nbformat": 4,
 "nbformat_minor": 2
}

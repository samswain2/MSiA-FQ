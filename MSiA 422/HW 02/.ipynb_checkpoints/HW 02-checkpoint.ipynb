{
 "cells": [
  {
   "cell_type": "code",
   "execution_count": 15,
   "metadata": {},
   "outputs": [
    {
     "ename": "SyntaxError",
     "evalue": "invalid syntax (3443240731.py, line 13)",
     "output_type": "error",
     "traceback": [
      "\u001b[1;36m  File \u001b[1;32m\"C:\\Users\\nuke2\\AppData\\Local\\Temp\\ipykernel_8424\\3443240731.py\"\u001b[1;36m, line \u001b[1;32m13\u001b[0m\n\u001b[1;33m    elif\u001b[0m\n\u001b[1;37m         ^\u001b[0m\n\u001b[1;31mSyntaxError\u001b[0m\u001b[1;31m:\u001b[0m invalid syntax\n"
     ]
    }
   ],
   "source": [
    "class new_sorted:\n",
    "    def __init__(self, arr, key, reverse = False):\n",
    "        # Check if list in inputted\n",
    "        if type(arr) == list and bool(reverse):\n",
    "            self.lst = arr\n",
    "            self.key = k\n",
    "            self.reversed = reverse\n",
    "        \n",
    "        # Let user know list not inputted for arr\n",
    "        elif type(arr) != list:\n",
    "            raise ValueError('new_sorted only accepts lists as attributes')\n",
    "        \n",
    "        # Let user know they entered wrong value for reverse\n",
    "        elif bool(reverse) == False:\n",
    "            raise ValueError('new_sorted only accepts lists as attributes')"
   ]
  }
 ],
 "metadata": {
  "kernelspec": {
   "display_name": "Python 3 (ipykernel)",
   "language": "python",
   "name": "python3"
  },
  "language_info": {
   "codemirror_mode": {
    "name": "ipython",
    "version": 3
   },
   "file_extension": ".py",
   "mimetype": "text/x-python",
   "name": "python",
   "nbconvert_exporter": "python",
   "pygments_lexer": "ipython3",
   "version": "3.10.4"
  }
 },
 "nbformat": 4,
 "nbformat_minor": 2
}

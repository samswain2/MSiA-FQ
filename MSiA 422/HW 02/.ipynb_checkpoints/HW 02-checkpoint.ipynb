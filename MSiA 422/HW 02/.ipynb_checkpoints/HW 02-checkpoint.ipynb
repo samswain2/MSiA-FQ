{
 "cells": [
  {
   "cell_type": "code",
   "execution_count": 21,
   "metadata": {},
   "outputs": [],
   "source": [
    "class new_sorted:\n",
    "#     def __init__(self, arr, key = None, reverse = False):\n",
    "#         # Check if list in inputted\n",
    "#         if type(arr) == list and bool(reverse):\n",
    "#             self.lst = arr\n",
    "#             self.key = k\n",
    "#             self.reversed = reverse\n",
    "        \n",
    "#         # Let user know list not inputted for arr\n",
    "#         elif type(arr) != list:\n",
    "#             raise ValueError('new_sorted only accepts lists as attributes')\n",
    "        \n",
    "#         # Let user know they entered wrong value for reverse\n",
    "#         elif bool(reverse) == False:\n",
    "#             raise ValueError('new_sorted only accepts lists as attributes')\n",
    "            \n",
    "        def merge_sort(a_list, key = None, reverse = False):\n",
    "            if len(a_list) > 1:\n",
    "                mid = len(a_list) // 2\n",
    "                left_half = a_list[:mid]\n",
    "                right_half = a_list[mid:]\n",
    "                new_sorted.merge_sort(left_half)\n",
    "                new_sorted.merge_sort(right_half)\n",
    "\n",
    "                i = 0\n",
    "                j = 0\n",
    "                k = 0\n",
    "\n",
    "\n",
    "                while i < len(left_half) and j < len(right_half):\n",
    "                    if left_half[i] < right_half[j]:\n",
    "                        a_list[k] = left_half[i]\n",
    "                        i = i + 1\n",
    "                    else:\n",
    "                        a_list[k] = right_half[j]\n",
    "                        j = j + 1\n",
    "                    k = k + 1\n",
    "\n",
    "                while i < len(left_half):\n",
    "                    a_list[k] = left_half[i]\n",
    "                    i = i + 1\n",
    "                    k = k + 1\n",
    "\n",
    "                while j < len(right_half):\n",
    "                    a_list[k] = right_half[j]\n",
    "                    j = j + 1\n",
    "                    k = k + 1\n",
    "            if reverse:\n",
    "                return a_list[::-1]\n",
    "            else:\n",
    "                return a_list\n",
    "                \n",
    "        def selection_sort(a_list, key = None, reverse = False):\n",
    "            for fill_slot in range(len(a_list) - 1, 0, -1):\n",
    "                pos_of_max = 0\n",
    "                for location in range(1, fill_slot + 1):\n",
    "                    if a_list[location] > a_list[pos_of_max]:\n",
    "                        pos_of_max = location\n",
    "                temp = a_list[fill_slot]\n",
    "                a_list[fill_slot] = a_list[pos_of_max]\n",
    "                a_list[pos_of_max] = temp\n",
    "            if reverse:\n",
    "                return a_list[::-1]\n",
    "            else:\n",
    "                return a_list"
   ]
  },
  {
   "cell_type": "code",
   "execution_count": 29,
   "metadata": {},
   "outputs": [
    {
     "name": "stdout",
     "output_type": "stream",
     "text": [
      "Merge sort: [2, 3, 6, 23, 2123]\n",
      "Selection sort: [2, 3, 6, 23, 123, 2123]\n",
      "<function <lambda> at 0x0000019C2A493910>\n",
      "<function <lambda> at 0x0000019C2A493910>\n",
      "<function <lambda> at 0x0000019C2A493910>\n"
     ]
    }
   ],
   "source": [
    "print(f\"Merge sort: {new_sorted.selection_sort([2123, 6, 3, 23, 2], reverse=False)}\")\n",
    "print(f\"Selection sort: {new_sorted.merge_sort([2123, 6, 3, 23, 2, 123], reverse=False)}\")\n",
    "\n",
    "class Student:\n",
    "    def __init__(self, name, grade, age):\n",
    "        self.name = name\n",
    "        self.grade = grade\n",
    "        self.age = age\n",
    "    def __repr__(self):\n",
    "        return repr((self.name, self.grade, self.age))\n",
    "\n",
    "student_objects = [\n",
    "    Student('john', 'A', 15),\n",
    "    Student('jane', 'B', 12),\n",
    "    Student('dave', 'B', 10)]\n",
    "\n",
    "arr = [[1, 2, 5, 1, 5, 5, 5], [5, 8, 6, 4, 3, 2, 2], [1, 2, 5, 1, 4, 3, 2]]\n",
    "for i in student_objects:\n",
    "    print(lambda student: student.age)"
   ]
  }
 ],
 "metadata": {
  "kernelspec": {
   "display_name": "Python 3 (ipykernel)",
   "language": "python",
   "name": "python3"
  },
  "language_info": {
   "codemirror_mode": {
    "name": "ipython",
    "version": 3
   },
   "file_extension": ".py",
   "mimetype": "text/x-python",
   "name": "python",
   "nbconvert_exporter": "python",
   "pygments_lexer": "ipython3",
   "version": "3.10.4"
  }
 },
 "nbformat": 4,
 "nbformat_minor": 2
}

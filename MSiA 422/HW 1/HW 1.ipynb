{
 "cells": [
  {
   "cell_type": "markdown",
   "metadata": {},
   "source": [
    "## Exercise 1"
   ]
  },
  {
   "cell_type": "code",
   "execution_count": 88,
   "metadata": {},
   "outputs": [
    {
     "data": {
      "text/plain": [
       "sys.version_info(major=3, minor=7, micro=4, releaselevel='final', serial=0)"
      ]
     },
     "execution_count": 88,
     "metadata": {},
     "output_type": "execute_result"
    }
   ],
   "source": []
  },
  {
   "cell_type": "markdown",
   "metadata": {},
   "source": [
    "## Exercise 2"
   ]
  },
  {
   "cell_type": "markdown",
   "metadata": {},
   "source": [
    "### Load and clean data"
   ]
  },
  {
   "cell_type": "code",
   "execution_count": 8,
   "metadata": {},
   "outputs": [],
   "source": [
    "# Load needed libs\n",
    "import pandas as pd\n",
    "import numpy as np\n",
    "\n",
    "# Read/Import exams.csv\n",
    "df = pd.read_csv(r\"exams.csv\")\n",
    "\n",
    "# Create data structure to store grades\n",
    "grades = {range(90, 101): \"A\",\n",
    "          range(80, 90): \"B\",\n",
    "          range(20, 80): \"C\",\n",
    "          range(10, 20): \"D\",\n",
    "          range(0, 10): \"F\"}\n",
    "\n",
    "# Create Final Grade column\n",
    "df[\"Final Grade\"] = df[\"Quizzes\"] * .3 + df[\"Projects\"] * .3 + df[\"Exams\"] * .4\n",
    "\n",
    "# Create Letter Grade column\n",
    "def get_lg(row):\n",
    "    for i in list(grades.keys()):\n",
    "        if row in i:\n",
    "            return grades[i]\n",
    "\n",
    "x = df[\"Final Grade\"].map(np.floor)\n",
    "x = x.map(int)\n",
    "df[\"Letter Grade\"] = x.map(get_lg)"
   ]
  },
  {
   "cell_type": "markdown",
   "metadata": {},
   "source": [
    "### Create menu functionality"
   ]
  },
  {
   "cell_type": "code",
   "execution_count": null,
   "metadata": {},
   "outputs": [],
   "source": []
  },
  {
   "cell_type": "markdown",
   "metadata": {},
   "source": [
    "### Create menu"
   ]
  },
  {
   "cell_type": "code",
   "execution_count": 29,
   "metadata": {},
   "outputs": [
    {
     "name": "stdout",
     "output_type": "stream",
     "text": [
      "Grade System Menu:\n",
      "1: Load Data (Do this first)\n",
      "2: Print List of Student Names, Final Scores, and Letter Grade\n",
      "3: Print Score Summary\n",
      "4: Identify Values in Top 5%\n",
      "5: Display Pie Chart of Final Letter Grades\n",
      "6: Create Box Plot Parameters\n",
      "7: Exit System\n",
      "Please select a task: 5\n",
      "Please select a task: 7\n"
     ]
    }
   ],
   "source": [
    "# Create menu text\n",
    "def print_menu():\n",
    "    print(\"Grade System Menu:\")\n",
    "    print(\"1: Load Data (Do this first)\")\n",
    "    print(\"2: Print List of Student Names, Final Scores, and Letter Grade\")\n",
    "    print(\"3: Print Score Summary\")\n",
    "    print(\"4: Identify Values in Top 5%\")\n",
    "    print(\"5: Display Pie Chart of Final Letter Grades\")\n",
    "    print(\"6: Create Box Plot Parameters\")\n",
    "    print(\"7: Exit System\")\n",
    "    \n",
    "# Load usable menu\n",
    "def menu(df):\n",
    "    print_menu()\n",
    "    ui = None\n",
    "    while ui != \"7\":\n",
    "        ui = input(\"Please select a task: \")\n",
    "        \n",
    "        \n",
    "menu(df)"
   ]
  },
  {
   "cell_type": "code",
   "execution_count": 7,
   "metadata": {},
   "outputs": [
    {
     "data": {
      "text/html": [
       "<div>\n",
       "<style scoped>\n",
       "    .dataframe tbody tr th:only-of-type {\n",
       "        vertical-align: middle;\n",
       "    }\n",
       "\n",
       "    .dataframe tbody tr th {\n",
       "        vertical-align: top;\n",
       "    }\n",
       "\n",
       "    .dataframe thead th {\n",
       "        text-align: right;\n",
       "    }\n",
       "</style>\n",
       "<table border=\"1\" class=\"dataframe\">\n",
       "  <thead>\n",
       "    <tr style=\"text-align: right;\">\n",
       "      <th></th>\n",
       "      <th>id</th>\n",
       "      <th>Name</th>\n",
       "      <th>Quizzes</th>\n",
       "      <th>Projects</th>\n",
       "      <th>Exams</th>\n",
       "      <th>Final Grade</th>\n",
       "      <th>Letter Grade</th>\n",
       "    </tr>\n",
       "  </thead>\n",
       "  <tbody>\n",
       "    <tr>\n",
       "      <td>0</td>\n",
       "      <td>ID1</td>\n",
       "      <td>James</td>\n",
       "      <td>43</td>\n",
       "      <td>51</td>\n",
       "      <td>55</td>\n",
       "      <td>50.2</td>\n",
       "      <td>C</td>\n",
       "    </tr>\n",
       "    <tr>\n",
       "      <td>1</td>\n",
       "      <td>ID2</td>\n",
       "      <td>Josephine</td>\n",
       "      <td>76</td>\n",
       "      <td>84</td>\n",
       "      <td>87</td>\n",
       "      <td>82.8</td>\n",
       "      <td>B</td>\n",
       "    </tr>\n",
       "    <tr>\n",
       "      <td>2</td>\n",
       "      <td>ID3</td>\n",
       "      <td>Art</td>\n",
       "      <td>89</td>\n",
       "      <td>94</td>\n",
       "      <td>92</td>\n",
       "      <td>91.7</td>\n",
       "      <td>A</td>\n",
       "    </tr>\n",
       "    <tr>\n",
       "      <td>3</td>\n",
       "      <td>ID4</td>\n",
       "      <td>Lenna</td>\n",
       "      <td>70</td>\n",
       "      <td>67</td>\n",
       "      <td>64</td>\n",
       "      <td>66.7</td>\n",
       "      <td>C</td>\n",
       "    </tr>\n",
       "    <tr>\n",
       "      <td>4</td>\n",
       "      <td>ID5</td>\n",
       "      <td>Donette</td>\n",
       "      <td>63</td>\n",
       "      <td>59</td>\n",
       "      <td>58</td>\n",
       "      <td>59.8</td>\n",
       "      <td>C</td>\n",
       "    </tr>\n",
       "    <tr>\n",
       "      <td>...</td>\n",
       "      <td>...</td>\n",
       "      <td>...</td>\n",
       "      <td>...</td>\n",
       "      <td>...</td>\n",
       "      <td>...</td>\n",
       "      <td>...</td>\n",
       "      <td>...</td>\n",
       "    </tr>\n",
       "    <tr>\n",
       "      <td>95</td>\n",
       "      <td>ID96</td>\n",
       "      <td>Carma</td>\n",
       "      <td>64</td>\n",
       "      <td>59</td>\n",
       "      <td>62</td>\n",
       "      <td>61.7</td>\n",
       "      <td>C</td>\n",
       "    </tr>\n",
       "    <tr>\n",
       "      <td>96</td>\n",
       "      <td>ID97</td>\n",
       "      <td>Malinda</td>\n",
       "      <td>66</td>\n",
       "      <td>62</td>\n",
       "      <td>55</td>\n",
       "      <td>60.4</td>\n",
       "      <td>C</td>\n",
       "    </tr>\n",
       "    <tr>\n",
       "      <td>97</td>\n",
       "      <td>ID98</td>\n",
       "      <td>Natalie</td>\n",
       "      <td>95</td>\n",
       "      <td>85</td>\n",
       "      <td>91</td>\n",
       "      <td>90.4</td>\n",
       "      <td>A</td>\n",
       "    </tr>\n",
       "    <tr>\n",
       "      <td>98</td>\n",
       "      <td>ID99</td>\n",
       "      <td>Lisha</td>\n",
       "      <td>69</td>\n",
       "      <td>67</td>\n",
       "      <td>55</td>\n",
       "      <td>62.8</td>\n",
       "      <td>C</td>\n",
       "    </tr>\n",
       "    <tr>\n",
       "      <td>99</td>\n",
       "      <td>ID100</td>\n",
       "      <td>Arlene</td>\n",
       "      <td>58</td>\n",
       "      <td>71</td>\n",
       "      <td>68</td>\n",
       "      <td>65.9</td>\n",
       "      <td>C</td>\n",
       "    </tr>\n",
       "  </tbody>\n",
       "</table>\n",
       "<p>100 rows × 7 columns</p>\n",
       "</div>"
      ],
      "text/plain": [
       "       id       Name  Quizzes  Projects  Exams  Final Grade Letter Grade\n",
       "0     ID1      James       43        51     55         50.2            C\n",
       "1     ID2  Josephine       76        84     87         82.8            B\n",
       "2     ID3        Art       89        94     92         91.7            A\n",
       "3     ID4      Lenna       70        67     64         66.7            C\n",
       "4     ID5    Donette       63        59     58         59.8            C\n",
       "..    ...        ...      ...       ...    ...          ...          ...\n",
       "95   ID96      Carma       64        59     62         61.7            C\n",
       "96   ID97    Malinda       66        62     55         60.4            C\n",
       "97   ID98    Natalie       95        85     91         90.4            A\n",
       "98   ID99      Lisha       69        67     55         62.8            C\n",
       "99  ID100     Arlene       58        71     68         65.9            C\n",
       "\n",
       "[100 rows x 7 columns]"
      ]
     },
     "execution_count": 7,
     "metadata": {},
     "output_type": "execute_result"
    }
   ],
   "source": [
    "df"
   ]
  },
  {
   "cell_type": "markdown",
   "metadata": {},
   "source": [
    "## Exercise 3"
   ]
  },
  {
   "cell_type": "code",
   "execution_count": null,
   "metadata": {},
   "outputs": [],
   "source": []
  }
 ],
 "metadata": {
  "kernelspec": {
   "display_name": "Python 3",
   "language": "python",
   "name": "python3"
  },
  "language_info": {
   "codemirror_mode": {
    "name": "ipython",
    "version": 3
   },
   "file_extension": ".py",
   "mimetype": "text/x-python",
   "name": "python",
   "nbconvert_exporter": "python",
   "pygments_lexer": "ipython3",
   "version": "3.7.4"
  }
 },
 "nbformat": 4,
 "nbformat_minor": 2
}

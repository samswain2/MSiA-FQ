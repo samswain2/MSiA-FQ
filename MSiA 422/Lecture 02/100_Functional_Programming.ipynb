{
 "cells": [
  {
   "cell_type": "markdown",
   "metadata": {},
   "source": [
    "# Functions are first class objects\n"
   ]
  },
  {
   "cell_type": "markdown",
   "metadata": {},
   "source": [
    "#### Functions as Parameters"
   ]
  },
  {
   "cell_type": "code",
   "execution_count": null,
   "metadata": {},
   "outputs": [],
   "source": [
    "def foo(f, a) :\n",
    "    return f(a) + a\n",
    "\n",
    "def bar(x) :\n",
    "    return x * x\n",
    "\n",
    "foo(bar,9)\n"
   ]
  },
  {
   "cell_type": "markdown",
   "metadata": {},
   "source": [
    "#### Functions Returning Functions"
   ]
  },
  {
   "cell_type": "code",
   "execution_count": null,
   "metadata": {},
   "outputs": [],
   "source": [
    "def foo2 (x) :\n",
    "    def bar2(y) :\n",
    "        return x + y\n",
    "    \n",
    "    return bar2\n",
    "\n",
    "x = foo2(10) \n",
    "type(x)"
   ]
  },
  {
   "cell_type": "code",
   "execution_count": null,
   "metadata": {},
   "outputs": [],
   "source": [
    "x(3)"
   ]
  },
  {
   "cell_type": "code",
   "execution_count": null,
   "metadata": {},
   "outputs": [],
   "source": [
    "x(3)"
   ]
  },
  {
   "cell_type": "markdown",
   "metadata": {},
   "source": [
    "#### Function Parameters: Defaults\n",
    "\n",
    "**The type of the default doesn’t limit the type of a parameter**"
   ]
  },
  {
   "cell_type": "code",
   "execution_count": null,
   "metadata": {},
   "outputs": [],
   "source": [
    "def foo(x = 3):\n",
    "    print(x * 2)"
   ]
  },
  {
   "cell_type": "code",
   "execution_count": null,
   "metadata": {},
   "outputs": [],
   "source": [
    "foo()"
   ]
  },
  {
   "cell_type": "code",
   "execution_count": null,
   "metadata": {},
   "outputs": [],
   "source": [
    "foo('ABC')"
   ]
  },
  {
   "cell_type": "markdown",
   "metadata": {},
   "source": [
    "#### Function Parameters: Named"
   ]
  },
  {
   "cell_type": "code",
   "execution_count": null,
   "metadata": {},
   "outputs": [],
   "source": [
    "def foo(a,b,c=9):\n",
    "    print (a + b + c)\n",
    "    \n",
    "foo(b=1,a=2)"
   ]
  },
  {
   "cell_type": "code",
   "execution_count": null,
   "metadata": {},
   "outputs": [],
   "source": [
    "foo(1,2,3)"
   ]
  },
  {
   "cell_type": "markdown",
   "metadata": {},
   "source": [
    "### Anonymous Functions\n",
    "\n",
    "* A **lambda** expression returns a function object\n",
    "* The body can only be a simple expression, not complex statements\n"
   ]
  },
  {
   "cell_type": "code",
   "execution_count": null,
   "metadata": {},
   "outputs": [],
   "source": [
    "def mySum(x,y):\n",
    "    z = x + y\n",
    "    return z\n",
    "\n",
    "f = lambda x,y : x + y\n",
    "\n",
    "print(f(2,3))\n",
    "\n",
    "print(mySum(2,3))\n"
   ]
  },
  {
   "cell_type": "code",
   "execution_count": null,
   "metadata": {},
   "outputs": [],
   "source": [
    "lst = ['one', lambda x,y : x * y, 3]\n",
    "lst[1](3,2)"
   ]
  },
  {
   "cell_type": "markdown",
   "metadata": {},
   "source": [
    "# Variable Scope"
   ]
  },
  {
   "cell_type": "code",
   "execution_count": null,
   "metadata": {},
   "outputs": [],
   "source": [
    "c1 = 10\n",
    "\n",
    "def f1():\n",
    "    #global c1\n",
    "    c1 = 20\n",
    "    print( c1)\n",
    "\n",
    "\n",
    "f1()    \n",
    "print(c1)"
   ]
  },
  {
   "cell_type": "markdown",
   "metadata": {},
   "source": [
    "# Passing tuples and dictionary items - Dynamic number of parameters"
   ]
  },
  {
   "cell_type": "code",
   "execution_count": null,
   "metadata": {},
   "outputs": [],
   "source": [
    "def addnums(*args):\n",
    "    sum = 0\n",
    "    for x in args:\n",
    "        sum += x\n",
    "    return sum\n",
    "        \n",
    "print(addnums(1,2,3))\n",
    "\n",
    "print(addnums(1,2,3,4,9))\n"
   ]
  },
  {
   "cell_type": "code",
   "execution_count": null,
   "metadata": {},
   "outputs": [],
   "source": [
    "def foo(**kwargs):\n",
    "    print('Name: ' + kwargs['name'])\n",
    "    print('Age: %d years' % kwargs['age'])\n",
    "    print(kwargs)\n",
    "\n",
    "foo(x=1,t=(2,3,4,5),name='anan',age=50)"
   ]
  },
  {
   "cell_type": "markdown",
   "metadata": {},
   "source": [
    "## Use list comprehension to create a transformed version of an existing list\n",
    "\n",
    "* Listcomps are clear & concise, up to a point. \n",
    "* You can have multiple for-loops and if-conditions in a listcomp\n",
    "* if the conditions are complex, regular for loops should be used. \n",
    "* Applying the Zen of Python, choose the more readable way."
   ]
  },
  {
   "cell_type": "code",
   "execution_count": null,
   "metadata": {},
   "outputs": [],
   "source": [
    "#Bad\n",
    "original_list = [1,2,3,4,5,6,7,8,9]\n",
    "new_list = list()  #OR = []\n",
    "for element in original_list:\n",
    "    if element % 2:\n",
    "        new_list.append(element*10)\n",
    "print(new_list)"
   ]
  },
  {
   "cell_type": "code",
   "execution_count": null,
   "metadata": {},
   "outputs": [],
   "source": [
    "#Good\n",
    "original_list = [1,2,3,4,5,6,7,8,9] \n",
    "\n",
    "print([element * 10 for element in original_list if element % 2])"
   ]
  },
  {
   "cell_type": "markdown",
   "metadata": {},
   "source": [
    "#### nested list comprehension - flatten matrix"
   ]
  },
  {
   "cell_type": "code",
   "execution_count": null,
   "metadata": {},
   "outputs": [],
   "source": [
    "l = [ [1,-1,3],\n",
    "     [4,3],\n",
    "     [7,1,-7]]\n",
    "newList = []\n",
    "for x in l:\n",
    "    for y in x:\n",
    "        newList.append(y)\n",
    "    \n",
    "newList"
   ]
  },
  {
   "cell_type": "code",
   "execution_count": null,
   "metadata": {},
   "outputs": [],
   "source": [
    "[val for sublist in l  for val in sublist if len(sublist)]"
   ]
  },
  {
   "cell_type": "markdown",
   "metadata": {},
   "source": [
    "## Generator Expressions\n",
    "\n",
    "* Generator expressions (\"genexps\") are just like list comprehensions, \n",
    "* except that where listcomps are greedy, generator expressions are lazy. \n",
    "* Listcomps compute the entire result list all at once, as a list. \n",
    "* Generator expressions compute one value at a time, when needed, as individual values. \n",
    "* This is especially useful for long sequences where the computed list is just an intermediate step and not the final result.\n",
    "\n",
    "* The difference in syntax is that listcomps have square brackets, but generator expressions don't. \n",
    "* Generator expressions sometimes do require enclosing parentheses though, so you should always use them.\n",
    "* Rule of thumb:\n",
    " * Use a list comprehension when a computed list is the desired end result.\n",
    " * Use a generator expression when the computed list is just an intermediate step."
   ]
  },
  {
   "cell_type": "code",
   "execution_count": null,
   "metadata": {},
   "outputs": [],
   "source": [
    "x = [i for i in range(10)]\n",
    "print(x)\n",
    "type(x)"
   ]
  },
  {
   "cell_type": "code",
   "execution_count": null,
   "metadata": {},
   "outputs": [],
   "source": [
    "g = (x for x in range(3))\n",
    "g"
   ]
  },
  {
   "cell_type": "code",
   "execution_count": null,
   "metadata": {},
   "outputs": [],
   "source": [
    "print(next(g))"
   ]
  },
  {
   "cell_type": "code",
   "execution_count": null,
   "metadata": {},
   "outputs": [],
   "source": [
    "y = (i for i in range(3))\n",
    "print(y)\n",
    "type(y)"
   ]
  },
  {
   "cell_type": "code",
   "execution_count": null,
   "metadata": {},
   "outputs": [],
   "source": [
    "print(next(y))"
   ]
  },
  {
   "cell_type": "code",
   "execution_count": null,
   "metadata": {},
   "outputs": [],
   "source": [
    "# For example, if we were summing the squares of several billion integers, we'd run out of memory with \n",
    "#list comprehensions!\n",
    "\n",
    "L = [i * i for i in range(10000)]   #try 1000000000\n",
    "print(L)\n",
    "print(sum(L))"
   ]
  },
  {
   "cell_type": "code",
   "execution_count": null,
   "metadata": {},
   "outputs": [],
   "source": [
    "L = [i for i in range(100000000000000000)] \n",
    "sum(L)"
   ]
  },
  {
   "cell_type": "code",
   "execution_count": null,
   "metadata": {},
   "outputs": [],
   "source": [
    "L = (i for i in range(1000000000000000000))\n",
    "sum(L)"
   ]
  },
  {
   "cell_type": "code",
   "execution_count": null,
   "metadata": {},
   "outputs": [],
   "source": [
    "next(L)"
   ]
  },
  {
   "cell_type": "markdown",
   "metadata": {},
   "source": [
    "## Generators - complex functions\n",
    "\n",
    "* The **yield** keyword turns a function into a generator. \n",
    "* When you call a generator function, instead of running the code immediately Python returns a generator object.\n",
    "* The generator object is an iterator; it has a next method. \n",
    "\n",
    "**This is how a for loop really works. Python looks at the sequence supplied after the in keyword. \n",
    "If it's a simple container (such as a list, tuple, dictionary, set, or user-defined container) Python converts it into an iterator. If it's already an iterator, Python uses it directly.**"
   ]
  },
  {
   "cell_type": "code",
   "execution_count": null,
   "metadata": {},
   "outputs": [],
   "source": [
    "def my_range_generator(stop):\n",
    "    value = 0\n",
    "    while value < stop:\n",
    "        yield value\n",
    "        value += 1"
   ]
  },
  {
   "cell_type": "code",
   "execution_count": null,
   "metadata": {},
   "outputs": [],
   "source": [
    "[*my_range_generator(5)]"
   ]
  },
  {
   "cell_type": "code",
   "execution_count": null,
   "metadata": {},
   "outputs": [],
   "source": [
    "gen = my_range_generator(3)"
   ]
  },
  {
   "cell_type": "code",
   "execution_count": null,
   "metadata": {},
   "outputs": [],
   "source": [
    "next(gen)"
   ]
  },
  {
   "cell_type": "markdown",
   "metadata": {},
   "source": [
    "#### Generator expression OR Function\n",
    "\n",
    "* Use a generator expression instead of a function if:\n",
    " * You only need the function in one place\n",
    " * You are just going to iterate once through the values"
   ]
  },
  {
   "cell_type": "markdown",
   "metadata": {},
   "source": [
    "## Chain/Pipeline \n",
    "series of transformations more clear\n",
    "Too much chaining can make your code harder to follow.\n",
    "“No more than three chained functions” is a good rule of thumb."
   ]
  },
  {
   "cell_type": "markdown",
   "metadata": {},
   "source": [
    "### Example: chain string functions to make it simple"
   ]
  },
  {
   "cell_type": "code",
   "execution_count": null,
   "metadata": {},
   "outputs": [],
   "source": [
    "#Bad\n",
    "book_info = ' The Three Musketeers: Alexandre Dumas '\n",
    "formatted_book_info = book_info.upper()\n",
    "formatted_book_info = formatted_book_info.replace(':', ' by')\n",
    "print(formatted_book_info)"
   ]
  },
  {
   "cell_type": "code",
   "execution_count": null,
   "metadata": {},
   "outputs": [],
   "source": [
    "#Good\n",
    "book_info = ' The Three Musketeers: Alexandre Dumas'\n",
    "formatted_book_info = book_info.strip().upper().replace(':', ' by')\n",
    "print(formatted_book_info)"
   ]
  },
  {
   "cell_type": "markdown",
   "metadata": {},
   "source": [
    "# Higher-Order Functions"
   ]
  },
  {
   "cell_type": "markdown",
   "metadata": {},
   "source": [
    "**map(func,seq)**\n",
    "* for all i, applies func(seq[i]) and returns the corresponding sequence of the calculated results."
   ]
  },
  {
   "cell_type": "code",
   "execution_count": null,
   "metadata": {},
   "outputs": [],
   "source": [
    "lst = [0,1,2,3,4,5,6,7,8,9]\n",
    "\n",
    "lst2 = map(lambda x:2*x,lst)\n",
    "\n",
    "\n",
    "#[*l2]\n",
    "#list2 = list(l2)\n",
    "lst2"
   ]
  },
  {
   "cell_type": "code",
   "execution_count": null,
   "metadata": {},
   "outputs": [],
   "source": [
    "[*lst2]"
   ]
  },
  {
   "cell_type": "code",
   "execution_count": null,
   "metadata": {},
   "outputs": [],
   "source": [
    "list(lst2)"
   ]
  },
  {
   "cell_type": "code",
   "execution_count": null,
   "metadata": {},
   "outputs": [],
   "source": [
    "list(map(lambda x:2*x,lst))"
   ]
  },
  {
   "cell_type": "code",
   "execution_count": null,
   "metadata": {},
   "outputs": [],
   "source": [
    "[*map(lambda x:2*x,lst)]"
   ]
  },
  {
   "cell_type": "markdown",
   "metadata": {},
   "source": [
    "**filter(boolfunc,seq)**\n",
    "* returns a sequence containing all those items in seq for which boolfunc is True."
   ]
  },
  {
   "cell_type": "code",
   "execution_count": null,
   "metadata": {},
   "outputs": [],
   "source": [
    "lst = [0,1,12,3,4,5,6,7,8,9]\n",
    "[*filter(lambda a: a%2 != 0,lst)]"
   ]
  },
  {
   "cell_type": "code",
   "execution_count": null,
   "metadata": {},
   "outputs": [],
   "source": [
    "### ONE LINE CODE\n",
    "list(filter(lambda x: x%2==0, lst))"
   ]
  },
  {
   "cell_type": "markdown",
   "metadata": {},
   "source": [
    "**reduce(func,seq)**\n",
    "* applies func to the items of seq, from left to right, two-at-time, to reduce the seq to a single value."
   ]
  },
  {
   "cell_type": "code",
   "execution_count": null,
   "metadata": {},
   "outputs": [],
   "source": [
    "import functools as ft\n",
    "\n",
    "lst = [1,2,3,4]\n",
    "ft.reduce(lambda a,b: a+b, lst)"
   ]
  },
  {
   "cell_type": "code",
   "execution_count": null,
   "metadata": {},
   "outputs": [],
   "source": [
    "import functools as ft\n",
    "def plus(x,y):\n",
    "    return (x + y)\n",
    "\n",
    "lst = ['h','e','l','l','o']\n",
    "ft.reduce(plus,lst)\n"
   ]
  },
  {
   "cell_type": "code",
   "execution_count": null,
   "metadata": {},
   "outputs": [],
   "source": [
    "l = [1,2,3]\n",
    "ft.reduce(lambda a,b: a + b,l)\n"
   ]
  },
  {
   "cell_type": "markdown",
   "metadata": {},
   "source": [
    "### Example: Map two lists into a dictionary in Python"
   ]
  },
  {
   "cell_type": "code",
   "execution_count": null,
   "metadata": {},
   "outputs": [],
   "source": [
    "import timeit\n",
    "\n",
    "keys = ('name', 'age', 'food')\n",
    "values = ('Monty', 42, 'spam')\n",
    "\n",
    "dic = {k:v for k,v in zip(keys, values)}\n",
    "\n",
    "\n",
    "print(dic)  \n"
   ]
  },
  {
   "cell_type": "code",
   "execution_count": null,
   "metadata": {},
   "outputs": [],
   "source": [
    "L1 = [1,2,3,4]\n",
    "L2 = [9,-1,3]\n",
    "\n",
    "[*zip(L1,L2)]"
   ]
  },
  {
   "cell_type": "code",
   "execution_count": null,
   "metadata": {},
   "outputs": [],
   "source": [
    "dict = {keys[i]: values[i] for i in range(len(keys))}\n",
    "print(dict)\n",
    "\n"
   ]
  },
  {
   "cell_type": "markdown",
   "metadata": {},
   "source": [
    "##### PERFORMANCE"
   ]
  },
  {
   "cell_type": "code",
   "execution_count": null,
   "metadata": {},
   "outputs": [],
   "source": [
    "import timeit\n",
    "\n",
    "print(min(timeit.repeat(lambda: {k: v for k, v in zip(keys, values)})))\n",
    "\n",
    "print(min(timeit.repeat(lambda: {keys[i]: values[i] for i in range(len(keys))})))"
   ]
  },
  {
   "cell_type": "markdown",
   "metadata": {},
   "source": [
    "### Example: Max of tow lists - Python's zip, map, and lambda\n",
    "\n",
    "* Assume that you've got two collections of values and you need to keep the largest (or smallest) from each. \n",
    "* These could be metrics from two different systems, stock quotes from two different services, or just about anything. "
   ]
  },
  {
   "cell_type": "code",
   "execution_count": null,
   "metadata": {},
   "outputs": [],
   "source": [
    "#procedurally\n",
    "a = [1, 2, 3, 4, 5]\n",
    "b = [2, 2, 9, 0, 9]\n",
    "\n",
    "\n",
    "def pick_the_largest(a, b):\n",
    "    result = []  # A list of the largest values\n",
    "\n",
    "    # Assume both lists are the same length\n",
    "    list_length = len(a)\n",
    "    for i in range(list_length):\n",
    "        result.append(max(a[i], b[i]))\n",
    "    return result\n",
    "\n",
    "print(pick_the_largest(a, b))"
   ]
  },
  {
   "cell_type": "code",
   "execution_count": null,
   "metadata": {},
   "outputs": [],
   "source": [
    "# functional \n",
    "a = [1, 2, 3, 4, 5]\n",
    "b = [2, 2, 9, 0, 9]\n",
    "print(list(map(lambda pair: max(pair), zip(a, b))))\n",
    "print(a)\n",
    "print(b)"
   ]
  },
  {
   "cell_type": "markdown",
   "metadata": {},
   "source": [
    "## Recursion"
   ]
  },
  {
   "cell_type": "markdown",
   "metadata": {},
   "source": [
    "#### list_sum"
   ]
  },
  {
   "cell_type": "code",
   "execution_count": null,
   "metadata": {},
   "outputs": [],
   "source": [
    "def list_sum(num_list):\n",
    "    if len(num_list) == 1:\n",
    "        return num_list[0]\n",
    "    else:\n",
    "        return num_list[0] + list_sum(num_list[1:])\n",
    "    \n",
    "print(list_sum([1,3,5,7,9]))"
   ]
  },
  {
   "cell_type": "markdown",
   "metadata": {},
   "source": [
    "#### power"
   ]
  },
  {
   "cell_type": "code",
   "execution_count": null,
   "metadata": {},
   "outputs": [],
   "source": [
    "def power(n,m):\n",
    "    \"\"\" inputs: base b and power p (an int)\n",
    "         implements: b**p = b*b**(p-1)\n",
    "    \"\"\"\n",
    "    if m == 0:\n",
    "        return 1 \n",
    "    if m > 0:\n",
    "        return n*power(n,m-1)\n",
    "\n",
    "\n",
    "print (power(2,3))"
   ]
  },
  {
   "cell_type": "code",
   "execution_count": null,
   "metadata": {},
   "outputs": [],
   "source": [
    "help(power)"
   ]
  },
  {
   "cell_type": "markdown",
   "metadata": {},
   "source": [
    "#### my_range_list"
   ]
  },
  {
   "cell_type": "code",
   "execution_count": null,
   "metadata": {},
   "outputs": [],
   "source": [
    "[*range(1,10)]"
   ]
  },
  {
   "cell_type": "code",
   "execution_count": null,
   "metadata": {},
   "outputs": [],
   "source": [
    "def my_range_list(low,hi):\n",
    "    \"\"\" input: two ints, low and hi\n",
    "        output: int list from low up to hi\n",
    "    \"\"\"\n",
    "    if hi <= low:\n",
    "        return []\n",
    "    else:\n",
    "        return [low] + my_range_list(low+1,hi)\n",
    "\n",
    "my_range_list(1,10)"
   ]
  },
  {
   "cell_type": "markdown",
   "metadata": {},
   "source": [
    "#### mymax"
   ]
  },
  {
   "cell_type": "code",
   "execution_count": null,
   "metadata": {},
   "outputs": [],
   "source": [
    "def mymax(L):\n",
    "    \"\"\" input: a NONEMPTY list, L\n",
    "        output: L's maximum element\n",
    "    \"\"\"\n",
    "    if len(L) == 1:\n",
    "        return L[0]\n",
    "    else:\n",
    "        if L[0] < L[1]:\n",
    "            return mymax( L[1:] )\n",
    "        else:\n",
    "            return mymax( L[0:1] + L[2:] ) \n",
    "                  \n",
    "mymax([3,9,0,-1])"
   ]
  },
  {
   "cell_type": "markdown",
   "metadata": {},
   "source": [
    "#### mylen"
   ]
  },
  {
   "cell_type": "code",
   "execution_count": null,
   "metadata": {},
   "outputs": [],
   "source": [
    "def mylen(s):\n",
    "    \"\"\" input: any string, s\n",
    "        output: the number of characters in s\n",
    "    \"\"\"\n",
    "    if s == '':\n",
    "        return 0\n",
    "    else:\n",
    "        return 1 + mylen( s[1:] )\n",
    "\n",
    "s = 'ABCD'\n",
    "mylen(s)\n",
    "#len(s)"
   ]
  },
  {
   "cell_type": "markdown",
   "metadata": {},
   "source": [
    "#### factorial(n)"
   ]
  },
  {
   "cell_type": "code",
   "execution_count": null,
   "metadata": {},
   "outputs": [],
   "source": [
    "def factorial(n):\n",
    "    if (n == 1):\n",
    "        return 1\n",
    "    else:\n",
    "        return n*factorial(n-1)\n",
    "    \n",
    "    \n",
    "factorial(4)"
   ]
  },
  {
   "cell_type": "markdown",
   "metadata": {},
   "source": [
    "## Iterable collections"
   ]
  },
  {
   "cell_type": "markdown",
   "metadata": {},
   "source": [
    "####  Use the in keyword to iterate over an iterable"
   ]
  },
  {
   "cell_type": "code",
   "execution_count": null,
   "metadata": {},
   "outputs": [],
   "source": [
    "#Procedural\n",
    "my_list = ['Larry', 'Moe', 'Curly']\n",
    "index = 0\n",
    "while index < len(my_list):\n",
    "    print (my_list[index])\n",
    "    index += 1\n"
   ]
  },
  {
   "cell_type": "code",
   "execution_count": null,
   "metadata": {},
   "outputs": [],
   "source": [
    "#Functional\n",
    "my_list = ['Larry', 'Moe', 'Curly']\n",
    "for element in my_list:\n",
    "    print (element)"
   ]
  },
  {
   "cell_type": "markdown",
   "metadata": {},
   "source": [
    "#### Use the “enumerate” function in loops instead of creating an “index” variable\n"
   ]
  },
  {
   "cell_type": "code",
   "execution_count": null,
   "metadata": {},
   "outputs": [],
   "source": [
    "#Procedural\n",
    "my_container = ['Larry', 'Moe', 'Curly']\n",
    "index = 0\n",
    "for element in my_container:\n",
    "    print ('{} {}'.format(index, element))\n",
    "    index += 1\n"
   ]
  },
  {
   "cell_type": "code",
   "execution_count": null,
   "metadata": {},
   "outputs": [],
   "source": [
    "[*enumerate(my_container)]"
   ]
  },
  {
   "cell_type": "code",
   "execution_count": null,
   "metadata": {},
   "outputs": [],
   "source": [
    "#Functional\n",
    "my_container = ['Larry', 'Moe', 'Curly']\n",
    "for index, element in enumerate(my_container):\n",
    "    print ('{} {}'.format(index, element))"
   ]
  },
  {
   "cell_type": "markdown",
   "metadata": {},
   "source": [
    "### Example: Use dict comprehension to build a dict clearly and efficiently\n",
    "\n",
    "Filter a list to construct a dictionary!\n",
    "(Recall that in list comprehension we filter a list to create another list)\n"
   ]
  },
  {
   "cell_type": "code",
   "execution_count": null,
   "metadata": {},
   "outputs": [],
   "source": [
    "#Bad\n",
    "users_list = [('Jim','jim@a.com'),('Kim',''),('Frank','frank@a.com')]\n",
    "user_with_email = {}\n",
    "for user in users_list:\n",
    "    if user[1]:\n",
    "        user_with_email[user[0]] = user[1]\n",
    "print(user_with_email)"
   ]
  },
  {
   "cell_type": "code",
   "execution_count": null,
   "metadata": {},
   "outputs": [],
   "source": [
    "#Good\n",
    "users_list = [('Jim','jim@a.com'),('Kim',''),('Frank','frank@a.com')]\n",
    "user_email = {user[0] : user[1] for user in users_list if user[0]}\n",
    "print(user_with_email)"
   ]
  },
  {
   "cell_type": "markdown",
   "metadata": {},
   "source": [
    "### Example: Use set comprehension to generate sets concisely\n",
    "\n",
    "* The syntax is identical to list comprehension\n",
    "* Except for the enclosing characters\n",
    "* set behaves like a dictionary with keys but no values)"
   ]
  },
  {
   "cell_type": "code",
   "execution_count": null,
   "metadata": {},
   "outputs": [],
   "source": [
    "# Bad\n",
    "users = ['Jim Winter', 'Thomas Winter','Thomas Fall']\n",
    "users_first_names = set()\n",
    "for user in users:\n",
    "    users_first_names.add(user.split()[0])\n",
    "    \n",
    "print(users_first_names)"
   ]
  },
  {
   "cell_type": "code",
   "execution_count": null,
   "metadata": {},
   "outputs": [],
   "source": [
    "# Good\n",
    "users = ['Jim Winter', 'Thomas Winter','Thomas Fall']\n",
    "users_first_names = {user.split()[0] for user in users}\n",
    "\n",
    "print(users_first_names)"
   ]
  },
  {
   "cell_type": "markdown",
   "metadata": {},
   "source": [
    "### Example: Use sets to eliminate duplicate entries from Iterable containers\n",
    "\n",
    "* Note that most often you do not need to convert the set back to a list\n",
    "* A set is an Iterable just like a list!\n",
    "* so you can use it in for loops, list comprehensions, etc."
   ]
  },
  {
   "cell_type": "code",
   "execution_count": null,
   "metadata": {},
   "outputs": [],
   "source": [
    "#Bad\n",
    "employee_surnames = ('jim','kim','jim','alec')\n",
    "unique_surnames = []\n",
    "for surname in employee_surnames:\n",
    "    if surname not in unique_surnames:\n",
    "        unique_surnames.append(surname)\n",
    "print(unique_surnames)"
   ]
  },
  {
   "cell_type": "code",
   "execution_count": null,
   "metadata": {},
   "outputs": [],
   "source": [
    "#Good\n",
    "employee_surnames = ('jim','kim','jim','alec')\n",
    "unique_surnames = set(employee_surnames)\n",
    "print(unique_surnames)"
   ]
  },
  {
   "cell_type": "markdown",
   "metadata": {},
   "source": [
    "### Example: Prefer the format function for formatting strings\n"
   ]
  },
  {
   "cell_type": "code",
   "execution_count": null,
   "metadata": {},
   "outputs": [],
   "source": [
    "#Bad\n",
    "def get_formatted_user_info_worst(name,age,sex):\n",
    "    # Tedious to type and prone to conversion errors\n",
    "    return 'Name: ' + name + ' -- Age: ' + str(age) + ' -- Sex: ' + sex\n",
    "\n",
    "\n",
    "print(get_formatted_user_info_worst('James',30,'M'))"
   ]
  },
  {
   "cell_type": "code",
   "execution_count": null,
   "metadata": {},
   "outputs": [],
   "source": [
    "#OK\n",
    "def get_formatted_user_info_slightly_better(name,age,sex):\n",
    "    # No visible connection between the format string placeholders\n",
    "    # and values to use. Also, why do I have to know the type?\n",
    "    return 'Name: %s -- Age: %i -- Sex: %c' % (name, age, sex)\n",
    "\n",
    "print(get_formatted_user_info_slightly_better('James',30,'M'))"
   ]
  },
  {
   "cell_type": "code",
   "execution_count": null,
   "metadata": {},
   "outputs": [],
   "source": [
    "#Good\n",
    "def get_formatted_user_info(name,age,sex):\n",
    "    # Clear and concise. At a glance I can tell exactly what\n",
    "    # the output should be.\n",
    "    output = 'Name: {name} -- Age: {age} -- Sex: {sex}'.format(name=name,age=age,sex=sex)\n",
    "    return output\n",
    "\n",
    "print(get_formatted_user_info('James',30,'M'))"
   ]
  },
  {
   "cell_type": "markdown",
   "metadata": {},
   "source": [
    "### Example: Use ''.join when creating a single string for list elements\n"
   ]
  },
  {
   "cell_type": "code",
   "execution_count": null,
   "metadata": {},
   "outputs": [],
   "source": [
    "#Bad\n",
    "result_list = ['A', 'B', 'C']\n",
    "\n",
    "result_string = str() # or ''\n",
    "for result in result_list:\n",
    "    result_string += result\n",
    "    \n",
    "print(result_string)"
   ]
  },
  {
   "cell_type": "code",
   "execution_count": null,
   "metadata": {},
   "outputs": [],
   "source": [
    "#Good\n",
    "result_list = ['A', 'B', 'C']\n",
    "print(''.join(result_list))"
   ]
  },
  {
   "cell_type": "markdown",
   "metadata": {},
   "source": [
    "### Example: Use tuples to unpack data for multiple assignment\n"
   ]
  },
  {
   "cell_type": "code",
   "execution_count": null,
   "metadata": {},
   "outputs": [],
   "source": [
    "#Bad\n",
    "l = ['dog', 'Fido', 10]\n",
    "animal = l[0]\n",
    "name = l[1]\n",
    "age = l[2]\n",
    "\n",
    "output = ('{name} the {animal} is {age} years old'.format(animal=animal, name=name, age=age))\n",
    "print(output)"
   ]
  },
  {
   "cell_type": "code",
   "execution_count": null,
   "metadata": {},
   "outputs": [],
   "source": [
    "#Good\n",
    "l = ['dog', 'Fido', 10]\n",
    "(animal, name, age) = l\n",
    "output = ('{name} the {animal} is {age} years old'.format(animal=animal, name=name, age=age))\n",
    "print(output)"
   ]
  },
  {
   "cell_type": "markdown",
   "metadata": {},
   "source": [
    "### Example: Avoid using a temporary variable when performing a swap of two values"
   ]
  },
  {
   "cell_type": "code",
   "execution_count": null,
   "metadata": {},
   "outputs": [],
   "source": [
    "#Bad\n",
    "foo = 'Foo'\n",
    "bar = 'Bar'\n",
    "\n",
    "temp = foo\n",
    "foo = bar\n",
    "bar = temp\n",
    "\n",
    "print(foo)\n",
    "print(bar)"
   ]
  },
  {
   "cell_type": "code",
   "execution_count": null,
   "metadata": {},
   "outputs": [],
   "source": [
    "#Good\n",
    "foo = 'Foo'\n",
    "bar = 'Bar'\n",
    "\n",
    "(foo, bar) = (bar, foo)\n",
    "\n",
    "print(foo)\n",
    "print(bar)"
   ]
  }
 ],
 "metadata": {
  "kernelspec": {
   "display_name": "Python 3 (ipykernel)",
   "language": "python",
   "name": "python3"
  },
  "language_info": {
   "codemirror_mode": {
    "name": "ipython",
    "version": 3
   },
   "file_extension": ".py",
   "mimetype": "text/x-python",
   "name": "python",
   "nbconvert_exporter": "python",
   "pygments_lexer": "ipython3",
   "version": "3.9.12"
  }
 },
 "nbformat": 4,
 "nbformat_minor": 1
}

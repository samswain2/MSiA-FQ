{
 "cells": [
  {
   "cell_type": "markdown",
   "metadata": {
    "collapsed": true
   },
   "source": [
    "## NumPy - Numeric Python\n",
    "https://docs.scipy.org/doc/numpy/\n",
    "\n",
    "\n",
    "NumPy is the fundamental package for scientific computing with Python.\n",
    "![alt text](images/MATLAB_vs_PYTHON.png \"Title\")\n",
    "#### NumPy contains:\n",
    "* powerful N-dimensional array object\n",
    "* sophisticated (broadcasting) functions\n",
    "* tools for integrating C/C++ and Fortran code\n",
    "* useful linear algebra, Fourier transform, and random number capabilities"
   ]
  },
  {
   "cell_type": "markdown",
   "metadata": {},
   "source": [
    "## Python List\n",
    "* Powerful\n",
    "* Collection of values\n",
    "* Different values data types - heterogeneous \n",
    "* Change, add, remove\n",
    "* Other Functionalities\n",
    "* Missing: No calculation on the whole list!"
   ]
  },
  {
   "cell_type": "markdown",
   "metadata": {},
   "source": [
    "## NumPy array is Alternative to list in core python\n",
    "* Easy and fast\n",
    "* Allow calculation on the whole list\n",
    "* Sub sting and broadcasting\n",
    "* Differences from lists: same type array. concatenate vs + and other ops\n",
    "* Similar to list: indexing,...\n",
    "\n",
    "#### NumPy\n",
    "* array oriented computing\n",
    "* efficiently implemented multi-dimensional arrays\n",
    "* designed for scientific computation"
   ]
  },
  {
   "cell_type": "code",
   "execution_count": null,
   "metadata": {},
   "outputs": [],
   "source": [
    "import numpy as np\n",
    "\n",
    "print(np.__version__)"
   ]
  },
  {
   "cell_type": "markdown",
   "metadata": {},
   "source": [
    "#### Creation\n",
    "* array(iter)\n",
    "* ones()\n",
    "* zeros()\n",
    "* arange()\n",
    "* linspace()\n",
    "* logspace()"
   ]
  },
  {
   "cell_type": "code",
   "execution_count": null,
   "metadata": {},
   "outputs": [],
   "source": [
    "import numpy as np\n",
    "\n",
    "li = [1.0,'a',3,4]\n",
    "a = np.array(li)\n",
    "\n",
    "a\n",
    "\n"
   ]
  },
  {
   "cell_type": "code",
   "execution_count": null,
   "metadata": {},
   "outputs": [],
   "source": [
    "A = np.array([ [3.4, 8.7, 9.9], \n",
    "               [1.1, -7.8, -0.7],\n",
    "               [4.1, 12.3, 4.8]])\n",
    "print(A)\n",
    "print(A.ndim)"
   ]
  },
  {
   "cell_type": "code",
   "execution_count": null,
   "metadata": {},
   "outputs": [],
   "source": [
    "#Creation:\n",
    "arr_1d = np.array([1 ,2 ,3])\n",
    "arr_2d = np.array([[1 ,2 ,3] ,[11 ,22 ,33]])\n",
    "\n",
    "np.zeros (8)\n",
    "\n",
    "np.ones((2 ,3 ,5))\n",
    "np.arange (10)\n",
    "np.arange (3.5 ,10 ,2)\n",
    "\n",
    "#linspace(start, stop, num=50, endpoint=True, retstep=False) #include end point #return spacing (tuple return)\n",
    "np.linspace (1 ,3 ,5)\n",
    "np.logspace (1 ,3 ,5)\n",
    "result,spacing = np.linspace(1,21,10,True,True)\n",
    "print(spacing,result)\n",
    "\n",
    "np.identity(4, dtype=int)"
   ]
  },
  {
   "cell_type": "markdown",
   "metadata": {},
   "source": [
    "### Operators\n"
   ]
  },
  {
   "cell_type": "code",
   "execution_count": null,
   "metadata": {},
   "outputs": [],
   "source": [
    "#+,-,%,*,dot(@)\n",
    "a , b = np.array ([1 ,2]) , np.array ([10 ,20])\n",
    "print(a + b)\n",
    "print(a * b)\n",
    "print(a@b)\n",
    "print(a.dot(b))"
   ]
  },
  {
   "cell_type": "markdown",
   "metadata": {},
   "source": [
    "### Indexing and Slicing\n",
    "Numpy very powerful and similar to core Python"
   ]
  },
  {
   "cell_type": "code",
   "execution_count": null,
   "metadata": {},
   "outputs": [],
   "source": [
    "B = np.array([ [[111, 112], [121, 122]],\n",
    "               [[211, 212], [221, 222]],\n",
    "               [[311, 312], [321, 322]] ])\n",
    "print(B[0][1][0])\n",
    "print(B[-1])"
   ]
  },
  {
   "cell_type": "code",
   "execution_count": null,
   "metadata": {},
   "outputs": [],
   "source": [
    "# An alternative: We use only one pair of square brackets and all the indices are separated by commas\n",
    "\n",
    "print(B[0, 1, 0])"
   ]
  },
  {
   "cell_type": "markdown",
   "metadata": {},
   "source": [
    "#### Shaping"
   ]
  },
  {
   "cell_type": "code",
   "execution_count": null,
   "metadata": {},
   "outputs": [],
   "source": [
    "a= np.arange(10)\n",
    "\n",
    "print(a)\n",
    "print(a.shape)\n",
    "\n",
    "a.shape = 2,5\n",
    "print(a)\n",
    "print(a.shape)"
   ]
  },
  {
   "cell_type": "code",
   "execution_count": null,
   "metadata": {},
   "outputs": [],
   "source": [
    "print(a[1:,2:])"
   ]
  },
  {
   "cell_type": "code",
   "execution_count": null,
   "metadata": {},
   "outputs": [],
   "source": [
    "#Slice\n",
    "X = np.arange(28).reshape(4,7)\n",
    "print(X)\n",
    "print(X[::2, ::3])\n",
    "print(X[:,6:])"
   ]
  },
  {
   "cell_type": "code",
   "execution_count": null,
   "metadata": {},
   "outputs": [],
   "source": [
    "a.sum()\n",
    "a[1:]\n",
    "a[1:].sum()"
   ]
  },
  {
   "cell_type": "markdown",
   "metadata": {},
   "source": [
    "## Performance:\n",
    "* Python list is a C array of pointers to values. Therefore, appending a value is fast, but operating on every value is slow.\n",
    "* NumPy array is a C array of values. Therefore, appending a value is slow (reallocating), but operating on every value is fast.\n",
    "\n",
    "#### Example Adding 2 tuples ... performance"
   ]
  },
  {
   "cell_type": "code",
   "execution_count": 3,
   "metadata": {},
   "outputs": [
    {
     "name": "stdout",
     "output_type": "stream",
     "text": [
      "Python time:  0.16845941543579102\n",
      "numpy time:  0.00299072265625\n",
      "Numpy is in this example is 56 faster!\n"
     ]
    }
   ],
   "source": [
    "import time\n",
    "import numpy as np\n",
    "\n",
    "size_of_vec = 1000000\n",
    "def pure_python_version():\n",
    "    t1 = time.time()\n",
    "    X = range(size_of_vec)\n",
    "    Y = range(size_of_vec)\n",
    "    Z = []\n",
    "    for i in range(len(X)):\n",
    "        Z.append(X[i] + Y[i])\n",
    "    return time.time() - t1\n",
    "\n",
    "def numpy_version():\n",
    "    t1 = time.time()\n",
    "    X = np.arange(size_of_vec)\n",
    "    Y = np.arange(size_of_vec)\n",
    "    Z = X + Y\n",
    "    return time.time() - t1\n",
    "\n",
    "\n",
    "t1 = pure_python_version()\n",
    "t2 = numpy_version()\n",
    "print('Python time: ', t1)\n",
    "print('numpy time: ', t2)\n",
    "print(\"Numpy is in this example is \" + str(int(t1/t2)) + \" faster!\")"
   ]
  },
  {
   "cell_type": "code",
   "execution_count": null,
   "metadata": {},
   "outputs": [],
   "source": [
    "%time\n",
    "\n",
    "x = 0\n",
    "for i in range(1000000000):\n",
    "    x = x + i\n",
    "print (x)\n",
    "\n",
    "%time"
   ]
  },
  {
   "cell_type": "markdown",
   "metadata": {},
   "source": [
    "## Universal functions (ufunc)\n",
    "\n",
    "* A universal function (or ufunc for short) is a function that operates on ndarrays in an element-by-element fashion\n",
    "* Many of the built-in functions are implemented in compiled C code\n",
    " * Math operations\n",
    " * Trigonometric Functions\n",
    " * Floating functions\n",
    " * Comparison functions\n",
    " * fromfunction ... create a ufunc from python function\n",
    " \n",
    "## Powerful Random Generator ... many distributions\n",
    " \n",
    "## Routines\n",
    " * Basic statistics: mean, median,std,sum,sort ...\n",
    " * https://docs.scipy.org/doc/numpy/reference/routines.html"
   ]
  },
  {
   "cell_type": "code",
   "execution_count": null,
   "metadata": {},
   "outputs": [],
   "source": [
    "#Truth array\n",
    "a = np.linspace (0 ,5 ,10)\n",
    "print(a)\n",
    "print(a < 2)\n",
    "print(np.all (a <2))\n",
    "print(np.any (a <20))"
   ]
  },
  {
   "cell_type": "code",
   "execution_count": null,
   "metadata": {},
   "outputs": [],
   "source": [
    "#From pure Python to NumPy\n",
    "import math\n",
    "def func ( x ):\n",
    "    return math.sin ( x ) * math.exp ( -0.5* x )\n",
    "\n",
    "x = [0.1* i for i in range (10000001)]\n",
    "y = [ func ( ix ) for ix in x ]\n",
    "y\n"
   ]
  },
  {
   "cell_type": "code",
   "execution_count": null,
   "metadata": {},
   "outputs": [],
   "source": [
    "import numpy as np\n",
    "def func ( x ):\n",
    "    return np . sin ( x ) * np . exp ( -0.5* x )\n",
    "x = np.linspace (0 ,10 ,10000001)\n",
    "y = func (x)\n",
    "y"
   ]
  }
 ],
 "metadata": {
  "kernelspec": {
   "display_name": "Python 3 (ipykernel)",
   "language": "python",
   "name": "python3"
  },
  "language_info": {
   "codemirror_mode": {
    "name": "ipython",
    "version": 3
   },
   "file_extension": ".py",
   "mimetype": "text/x-python",
   "name": "python",
   "nbconvert_exporter": "python",
   "pygments_lexer": "ipython3",
   "version": "3.9.12"
  }
 },
 "nbformat": 4,
 "nbformat_minor": 1
}

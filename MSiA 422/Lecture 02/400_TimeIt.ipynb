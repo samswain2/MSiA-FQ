{
 "cells": [
  {
   "cell_type": "markdown",
   "metadata": {},
   "source": [
    "# TimeIt - Built-in Python Library\n",
    "\n",
    "### measuring the execution time of your python code \n",
    "\n",
    "\n",
    "#### timeit.timeit(stmt, setup, timer, number) \n"
   ]
  },
  {
   "cell_type": "code",
   "execution_count": null,
   "metadata": {},
   "outputs": [],
   "source": [
    "# importing the required module \n",
    "import timeit \n",
    "  \n",
    "# code snippet to be executed only once \n",
    "mysetup = \"from math import sqrt\"\n",
    "  \n",
    "# code snippet whose execution time is to be measured \n",
    "mycode = ''' \n",
    "def example(): \n",
    "    mylist = [] \n",
    "    for x in range(10000): \n",
    "        mylist.append(sqrt(x)) \n",
    "example()\n",
    "'''\n",
    "  \n",
    "# timeit statement \n",
    "print (timeit.timeit(setup = mysetup, \n",
    "                    stmt = mycode, \n",
    "                    number = 1000) )\n",
    "\n",
    "# timeit statement \n",
    "print (timeit.repeat(setup = mysetup, \n",
    "                    stmt = mycode, \n",
    "                    number = 1000,\n",
    "                    repeat = 3) )"
   ]
  },
  {
   "cell_type": "markdown",
   "metadata": {},
   "source": [
    "# List search example"
   ]
  },
  {
   "cell_type": "code",
   "execution_count": 1,
   "metadata": {},
   "outputs": [
    {
     "data": {
      "text/plain": [
       "True"
      ]
     },
     "execution_count": 1,
     "metadata": {},
     "output_type": "execute_result"
    }
   ],
   "source": [
    "# List comp.\n",
    "def list_comp(myList,find):\n",
    "    return find in myList\n",
    "\n",
    "list_comp([1,2,3,4],4)"
   ]
  },
  {
   "cell_type": "code",
   "execution_count": 2,
   "metadata": {},
   "outputs": [
    {
     "data": {
      "text/plain": [
       "True"
      ]
     },
     "execution_count": 2,
     "metadata": {},
     "output_type": "execute_result"
    }
   ],
   "source": [
    "# linear search  \n",
    "def linear_search(myList, find): \n",
    "    for x in myList: \n",
    "        if x == find: \n",
    "            return True\n",
    "    return False \n",
    "\n",
    "linear_search([1,2,3,4],4)"
   ]
  },
  {
   "cell_type": "code",
   "execution_count": 3,
   "metadata": {},
   "outputs": [
    {
     "data": {
      "text/plain": [
       "True"
      ]
     },
     "execution_count": 3,
     "metadata": {},
     "output_type": "execute_result"
    }
   ],
   "source": [
    "# Binary search \n",
    "\n",
    "def binary_search(li, item):\n",
    "    first = 0\n",
    "    last = (len(li) - 1)\n",
    "    found = False\n",
    "    \n",
    "    while first <= last and not found:\n",
    "        midpoint = ((first + last)//2)\n",
    "        if li[midpoint] == item:\n",
    "            found = True\n",
    "        else:\n",
    "            if item < li[midpoint]:\n",
    "                last = (midpoint - 1)\n",
    "            else:\n",
    "                first = (midpoint + 1)\n",
    "    return found\n",
    "\n",
    "binary_search([1,2,3,4],4)"
   ]
  },
  {
   "cell_type": "code",
   "execution_count": 4,
   "metadata": {},
   "outputs": [
    {
     "name": "stdout",
     "output_type": "stream",
     "text": [
      "List Comp. search time: 0.36027279999998996\n",
      "linear search search time: 0.441988699999996\n",
      "binary search search time: 0.297599500000004\n"
     ]
    }
   ],
   "source": [
    "import timeit \n",
    "\n",
    "\n",
    "#List Comp.\n",
    "\n",
    "SETUP_LIST_COMP = ''' \n",
    "from __main__ import list_comp\n",
    "from random import randint\n",
    "'''\n",
    "\n",
    "TEST_CODE_LIST_COMP = ''' \n",
    "mylist = [x for x in range(10000)] \n",
    "find = randint(0, len(mylist)) \n",
    "list_comp(mylist, find)\n",
    "'''\n",
    "times = timeit.repeat(setup = SETUP_LIST_COMP, \n",
    "                      stmt = TEST_CODE_LIST_COMP, \n",
    "                      repeat = 1, \n",
    "                      number = 1000) \n",
    "\n",
    "# priniting minimum exec. time \n",
    "print('List Comp. search time: {}'.format(min(times)))         \n",
    "\n",
    "#========================================================================\n",
    "#linear_search\n",
    "\n",
    "SETUP_linear_search = ''' \n",
    "from __main__ import linear_search\n",
    "from random import randint\n",
    "'''\n",
    "\n",
    "TEST_CODE_linear_search = ''' \n",
    "mylist = [x for x in range(10000)] \n",
    "find = randint(0, len(mylist)) \n",
    "linear_search(mylist, find)\n",
    "'''\n",
    "times = timeit.repeat(setup = SETUP_linear_search, \n",
    "                      stmt = TEST_CODE_linear_search, \n",
    "                      repeat = 1, \n",
    "                      number = 1000) \n",
    "\n",
    "# priniting minimum exec. time \n",
    "print('linear search search time: {}'.format(min(times))) \n",
    "\n",
    "#========================================================================\n",
    "#binary search\n",
    "\n",
    "SETUP_binary_search = ''' \n",
    "from __main__ import binary_search\n",
    "from random import randint\n",
    "'''\n",
    "\n",
    "TEST_CODE_binary_search = ''' \n",
    "mylist = [x for x in range(10000)] \n",
    "find = randint(0, len(mylist)) \n",
    "binary_search(mylist, find)\n",
    "'''\n",
    "times = timeit.repeat(setup = SETUP_binary_search, \n",
    "                      stmt = TEST_CODE_binary_search, \n",
    "                      repeat = 1, \n",
    "                      number = 1000) \n",
    "\n",
    "# priniting minimum exec. time \n",
    "print('binary search search time: {}'.format(min(times))) "
   ]
  },
  {
   "cell_type": "markdown",
   "metadata": {},
   "source": [
    "# Note\n",
    "\n",
    "the output is the execution time of number times iteration of the code snippet, not the single iteration. For a single iteration exec. time, divide the output time by number."
   ]
  }
 ],
 "metadata": {
  "kernelspec": {
   "display_name": "Python 3 (ipykernel)",
   "language": "python",
   "name": "python3"
  },
  "language_info": {
   "codemirror_mode": {
    "name": "ipython",
    "version": 3
   },
   "file_extension": ".py",
   "mimetype": "text/x-python",
   "name": "python",
   "nbconvert_exporter": "python",
   "pygments_lexer": "ipython3",
   "version": "3.9.12"
  }
 },
 "nbformat": 4,
 "nbformat_minor": 1
}

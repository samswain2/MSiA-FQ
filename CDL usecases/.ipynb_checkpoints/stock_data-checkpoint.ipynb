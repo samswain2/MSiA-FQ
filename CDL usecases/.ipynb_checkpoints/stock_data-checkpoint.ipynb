{
 "cells": [
  {
   "cell_type": "markdown",
   "id": "283c1c5b",
   "metadata": {},
   "source": [
    "# Alpha Vantage"
   ]
  },
  {
   "cell_type": "code",
   "execution_count": 135,
   "id": "07098929",
   "metadata": {},
   "outputs": [],
   "source": [
    "# Load libs\n",
    "import csv\n",
    "import requests\n",
    "import time\n",
    "\n",
    "# Set params for API\n",
    "api_key = 'SWJ8LKHNRYM6AP15'\n",
    "ticker = 'SPY'\n",
    "interval_mins = 60\n",
    "times = [f'year{x}month{y}' for x in range(1, 3) for y in range(1, 13)]\n",
    "\n",
    "# Get url for each \"slice\"\n",
    "urls = []\n",
    "for time_slice in times:\n",
    "    urls.append(f'''https://www.alphavantage.co/query?function=TIME_SERIES_INTRADAY_EXTENDED&symbol={ticker}&interval={interval_mins}min&apikey={api_key}&outputsize=full&slice={time_slice}''')"
   ]
  },
  {
   "cell_type": "code",
   "execution_count": 136,
   "id": "46c17637",
   "metadata": {},
   "outputs": [],
   "source": [
    "columns = ['time', 'open', 'high', 'low', 'close', 'volume']\n",
    "stock_data_df = pd.DataFrame(columns = columns)\n",
    "\n",
    "for url in urls[:]:\n",
    "    # Get data from each url in list\n",
    "    with requests.Session() as s:\n",
    "        download = s.get(url)\n",
    "        decoded_content = download.content.decode('utf-8')\n",
    "        cr = list(csv.reader(decoded_content.splitlines(), delimiter=','))\n",
    "    # Get data into dataframe\n",
    "    df = pd.DataFrame(cr[1:], columns = columns)\n",
    "    df[['open', 'high', 'low', 'close']] = df[['open', \n",
    "                                               'high', \n",
    "                                               'low', \n",
    "                                               'close']].apply(pd.to_numeric).round(2)\n",
    "    df['volume'] = df['volume'].apply(pd.to_numeric)\n",
    "    df['time'] = df['time'].apply(pd.to_datetime)\n",
    "    stock_data_df = pd.concat([stock_data_df, df])\n",
    "    # Wait for API calls to refresh\n",
    "    time.sleep(15)"
   ]
  },
  {
   "cell_type": "code",
   "execution_count": 162,
   "id": "54ab9680",
   "metadata": {},
   "outputs": [
    {
     "name": "stdout",
     "output_type": "stream",
     "text": [
      "<class 'pandas.core.frame.DataFrame'>\n",
      "Int64Index: 7912 entries, 0 to 328\n",
      "Data columns (total 6 columns):\n",
      " #   Column  Non-Null Count  Dtype         \n",
      "---  ------  --------------  -----         \n",
      " 0   time    7912 non-null   datetime64[ns]\n",
      " 1   open    7912 non-null   float64       \n",
      " 2   high    7912 non-null   float64       \n",
      " 3   low     7912 non-null   float64       \n",
      " 4   close   7912 non-null   float64       \n",
      " 5   volume  7912 non-null   object        \n",
      "dtypes: datetime64[ns](1), float64(4), object(1)\n",
      "memory usage: 432.7+ KB\n"
     ]
    },
    {
     "data": {
      "text/html": [
       "<div>\n",
       "<style scoped>\n",
       "    .dataframe tbody tr th:only-of-type {\n",
       "        vertical-align: middle;\n",
       "    }\n",
       "\n",
       "    .dataframe tbody tr th {\n",
       "        vertical-align: top;\n",
       "    }\n",
       "\n",
       "    .dataframe thead th {\n",
       "        text-align: right;\n",
       "    }\n",
       "</style>\n",
       "<table border=\"1\" class=\"dataframe\">\n",
       "  <thead>\n",
       "    <tr style=\"text-align: right;\">\n",
       "      <th></th>\n",
       "      <th>time</th>\n",
       "      <th>open</th>\n",
       "      <th>high</th>\n",
       "      <th>low</th>\n",
       "      <th>close</th>\n",
       "      <th>volume</th>\n",
       "    </tr>\n",
       "  </thead>\n",
       "  <tbody>\n",
       "    <tr>\n",
       "      <th>0</th>\n",
       "      <td>2022-11-07 20:00:00</td>\n",
       "      <td>380.03</td>\n",
       "      <td>381.11</td>\n",
       "      <td>380.01</td>\n",
       "      <td>380.83</td>\n",
       "      <td>118848</td>\n",
       "    </tr>\n",
       "    <tr>\n",
       "      <th>1</th>\n",
       "      <td>2022-11-07 19:00:00</td>\n",
       "      <td>379.71</td>\n",
       "      <td>380.04</td>\n",
       "      <td>379.38</td>\n",
       "      <td>379.95</td>\n",
       "      <td>79734</td>\n",
       "    </tr>\n",
       "    <tr>\n",
       "      <th>2</th>\n",
       "      <td>2022-11-07 18:00:00</td>\n",
       "      <td>379.61</td>\n",
       "      <td>379.82</td>\n",
       "      <td>379.45</td>\n",
       "      <td>379.71</td>\n",
       "      <td>67735</td>\n",
       "    </tr>\n",
       "    <tr>\n",
       "      <th>3</th>\n",
       "      <td>2022-11-07 17:00:00</td>\n",
       "      <td>379.94</td>\n",
       "      <td>380.04</td>\n",
       "      <td>379.44</td>\n",
       "      <td>379.68</td>\n",
       "      <td>8845748</td>\n",
       "    </tr>\n",
       "    <tr>\n",
       "      <th>4</th>\n",
       "      <td>2022-11-07 16:00:00</td>\n",
       "      <td>379.34</td>\n",
       "      <td>380.57</td>\n",
       "      <td>379.32</td>\n",
       "      <td>379.94</td>\n",
       "      <td>14645881</td>\n",
       "    </tr>\n",
       "  </tbody>\n",
       "</table>\n",
       "</div>"
      ],
      "text/plain": [
       "                 time    open    high     low   close    volume\n",
       "0 2022-11-07 20:00:00  380.03  381.11  380.01  380.83    118848\n",
       "1 2022-11-07 19:00:00  379.71  380.04  379.38  379.95     79734\n",
       "2 2022-11-07 18:00:00  379.61  379.82  379.45  379.71     67735\n",
       "3 2022-11-07 17:00:00  379.94  380.04  379.44  379.68   8845748\n",
       "4 2022-11-07 16:00:00  379.34  380.57  379.32  379.94  14645881"
      ]
     },
     "execution_count": 162,
     "metadata": {},
     "output_type": "execute_result"
    }
   ],
   "source": [
    "# View data\n",
    "stock_data_df.info()\n",
    "stock_data_df.head()"
   ]
  },
  {
   "cell_type": "code",
   "execution_count": 166,
   "id": "8c409e74",
   "metadata": {},
   "outputs": [],
   "source": [
    "# Write data to .csv\n",
    "# stock_data_df.to_csv(\"Hourly_SPY_Data.csv\", sep=',', index=False, mode = 'w')\n",
    "# Write to .pkl\n",
    "# stock_data_df.to_pickle(\"Hourly_SPY_Data.pkl\")"
   ]
  },
  {
   "cell_type": "markdown",
   "id": "33697406",
   "metadata": {},
   "source": [
    "# Scrape Prices"
   ]
  },
  {
   "cell_type": "code",
   "execution_count": 27,
   "id": "fd3a6081",
   "metadata": {},
   "outputs": [],
   "source": [
    "import requests\n",
    "from bs4 import BeautifulSoup\n",
    "import json\n",
    "\n",
    "def getData(stock):\n",
    "    # Set user agent\n",
    "    headers = {'user-agent': 'Mozilla/5.0 (Windows NT 10.0; Win64; x64) AppleWebKit/537.36 (KHTML, like Gecko) Chrome/107.0.0.0 Safari/537.36'}\n",
    "    \n",
    "    # URL to scrape from\n",
    "    url = f'https://finance.yahoo.com/quote/{stock}'\n",
    "    \n",
    "    # Get soup\n",
    "    r = requests.get(url, headers = headers)\n",
    "    soup = BeautifulSoup(r.text, 'html.parser')\n",
    "    \n",
    "    # Get data from HTML\n",
    "    data = {\n",
    "        'symbol': stock,\n",
    "        'price': float(soup.find('fin-streamer', {\"class\": \"Fw(b) Fz(36px) Mb(-4px) D(ib)\"}).text),\n",
    "        'change': float(soup.find('fin-streamer', {\"class\": \"Fw(500) Pstart(8px) Fz(24px)\"}).text)\n",
    "    }\n",
    "    return data"
   ]
  },
  {
   "cell_type": "code",
   "execution_count": 156,
   "id": "5b281e92",
   "metadata": {},
   "outputs": [
    {
     "name": "stdout",
     "output_type": "stream",
     "text": [
      "TSLA: $191.3\n",
      "MSFT: $228.87\n",
      "AAPL: $139.5\n",
      "GOOGL: $88.9\n"
     ]
    }
   ],
   "source": [
    "# List of stocks to get data on\n",
    "stocks = ['TSLA', 'MSFT', 'AAPL', 'GOOGL']\n",
    "\n",
    "# Get data for each stocks\n",
    "stock_data = []\n",
    "for idx, tick in enumerate(stocks):\n",
    "    stock_data.append(getData(tick))\n",
    "    print(f\"{tick}: ${stock_data[idx].get('price')}\")"
   ]
  }
 ],
 "metadata": {
  "kernelspec": {
   "display_name": "Python 3 (ipykernel)",
   "language": "python",
   "name": "python3"
  },
  "language_info": {
   "codemirror_mode": {
    "name": "ipython",
    "version": 3
   },
   "file_extension": ".py",
   "mimetype": "text/x-python",
   "name": "python",
   "nbconvert_exporter": "python",
   "pygments_lexer": "ipython3",
   "version": "3.10.4"
  }
 },
 "nbformat": 4,
 "nbformat_minor": 5
}

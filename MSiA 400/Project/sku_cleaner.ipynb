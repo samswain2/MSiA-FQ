{
 "cells": [
  {
   "cell_type": "code",
   "execution_count": 1,
   "metadata": {},
   "outputs": [
    {
     "name": "stderr",
     "output_type": "stream",
     "text": [
      "C:\\Users\\Sam\\Anaconda3\\lib\\site-packages\\ipykernel_launcher.py:2: ParserWarning: Falling back to the 'python' engine because the 'c' engine does not support regex separators (separators > 1 char and different from '\\s+' are interpreted as regex); you can avoid this warning by specifying engine='python'.\n",
      "  \n"
     ]
    }
   ],
   "source": [
    "import pandas as pd\n",
    "df = pd.read_csv(r\"C:\\Users\\Sam\\Desktop\\skuinfo.csv\", sep = \"delimiter\", header = None)"
   ]
  },
  {
   "cell_type": "code",
   "execution_count": 2,
   "metadata": {},
   "outputs": [
    {
     "data": {
      "text/plain": [
       "8148"
      ]
     },
     "execution_count": 2,
     "metadata": {},
     "output_type": "execute_result"
    }
   ],
   "source": [
    "drops = []\n",
    "\n",
    "for i, v in enumerate(df[0]):\n",
    "    if df.iloc[i, 0].count(',') > 10:\n",
    "        drops.append(i)\n",
    "        \n",
    "len(drops)"
   ]
  },
  {
   "cell_type": "code",
   "execution_count": 3,
   "metadata": {},
   "outputs": [],
   "source": [
    "df = df.drop(drops)"
   ]
  },
  {
   "cell_type": "code",
   "execution_count": 4,
   "metadata": {},
   "outputs": [
    {
     "data": {
      "text/plain": [
       "0"
      ]
     },
     "execution_count": 4,
     "metadata": {},
     "output_type": "execute_result"
    }
   ],
   "source": [
    "drops = []\n",
    "\n",
    "for i, v in enumerate(df[0]):\n",
    "    if df.iloc[i, 0].count(',') > 10:\n",
    "        drops.append(i)\n",
    "        \n",
    "len(drops)"
   ]
  },
  {
   "cell_type": "code",
   "execution_count": 5,
   "metadata": {},
   "outputs": [
    {
     "data": {
      "text/html": [
       "<div>\n",
       "<style scoped>\n",
       "    .dataframe tbody tr th:only-of-type {\n",
       "        vertical-align: middle;\n",
       "    }\n",
       "\n",
       "    .dataframe tbody tr th {\n",
       "        vertical-align: top;\n",
       "    }\n",
       "\n",
       "    .dataframe thead th {\n",
       "        text-align: right;\n",
       "    }\n",
       "</style>\n",
       "<table border=\"1\" class=\"dataframe\">\n",
       "  <thead>\n",
       "    <tr style=\"text-align: right;\">\n",
       "      <th></th>\n",
       "      <th>0</th>\n",
       "    </tr>\n",
       "  </thead>\n",
       "  <tbody>\n",
       "    <tr>\n",
       "      <td>0</td>\n",
       "      <td>3,6505,113,000400000003000,00    F55KT2,WHISPE...</td>\n",
       "    </tr>\n",
       "    <tr>\n",
       "      <td>1</td>\n",
       "      <td>4,8101,002,000400000004000,22    615CZ4,SPEARM...</td>\n",
       "    </tr>\n",
       "    <tr>\n",
       "      <td>2</td>\n",
       "      <td>5,7307,003,000400000005000,7LBS  245-01,34 SIL...</td>\n",
       "    </tr>\n",
       "    <tr>\n",
       "      <td>3</td>\n",
       "      <td>8,3404,00B,000400000008000,622   F05H84,MORNIN...</td>\n",
       "    </tr>\n",
       "    <tr>\n",
       "      <td>4</td>\n",
       "      <td>15,2301,004,000400000015000,126   MDU461,255CA...</td>\n",
       "    </tr>\n",
       "    <tr>\n",
       "      <td>...</td>\n",
       "      <td>...</td>\n",
       "    </tr>\n",
       "    <tr>\n",
       "      <td>1564173</td>\n",
       "      <td>9999973,3103,009,000400009973999,702   S3JAYV,...</td>\n",
       "    </tr>\n",
       "    <tr>\n",
       "      <td>1564174</td>\n",
       "      <td>9999974,9801,726,000400009974999,      G50171,...</td>\n",
       "    </tr>\n",
       "    <tr>\n",
       "      <td>1564175</td>\n",
       "      <td>9999991,2301,004,000400009991999,026   MDU201,...</td>\n",
       "    </tr>\n",
       "    <tr>\n",
       "      <td>1564176</td>\n",
       "      <td>9999992,1202,402,000400009992999,14    F52UN1,...</td>\n",
       "    </tr>\n",
       "    <tr>\n",
       "      <td>1564177</td>\n",
       "      <td>9999997,2503,111,000400009997999,1     1XKBGO,...</td>\n",
       "    </tr>\n",
       "  </tbody>\n",
       "</table>\n",
       "<p>1556030 rows × 1 columns</p>\n",
       "</div>"
      ],
      "text/plain": [
       "                                                         0\n",
       "0        3,6505,113,000400000003000,00    F55KT2,WHISPE...\n",
       "1        4,8101,002,000400000004000,22    615CZ4,SPEARM...\n",
       "2        5,7307,003,000400000005000,7LBS  245-01,34 SIL...\n",
       "3        8,3404,00B,000400000008000,622   F05H84,MORNIN...\n",
       "4        15,2301,004,000400000015000,126   MDU461,255CA...\n",
       "...                                                    ...\n",
       "1564173  9999973,3103,009,000400009973999,702   S3JAYV,...\n",
       "1564174  9999974,9801,726,000400009974999,      G50171,...\n",
       "1564175  9999991,2301,004,000400009991999,026   MDU201,...\n",
       "1564176  9999992,1202,402,000400009992999,14    F52UN1,...\n",
       "1564177  9999997,2503,111,000400009997999,1     1XKBGO,...\n",
       "\n",
       "[1556030 rows x 1 columns]"
      ]
     },
     "execution_count": 5,
     "metadata": {},
     "output_type": "execute_result"
    }
   ],
   "source": [
    "df"
   ]
  },
  {
   "cell_type": "code",
   "execution_count": 6,
   "metadata": {},
   "outputs": [],
   "source": [
    "df = df[0].str.split(',', expand=True)"
   ]
  },
  {
   "cell_type": "code",
   "execution_count": 7,
   "metadata": {},
   "outputs": [],
   "source": [
    "df[0] = df[0].astype(int)\n",
    "df[1] = df[1].astype(int)\n",
    "df[7] = df[7].astype(int)\n",
    "\n",
    "def strp(x):\n",
    "    return x.strip()\n",
    "\n",
    "for i, v in enumerate(df.dtypes):\n",
    "    if v not in [\"int32\", \"int64\"]:\n",
    "        df[i] = df[i].apply(strp)"
   ]
  },
  {
   "cell_type": "code",
   "execution_count": 8,
   "metadata": {},
   "outputs": [
    {
     "data": {
      "text/plain": [
       "0      int32\n",
       "1      int32\n",
       "2     object\n",
       "3     object\n",
       "4     object\n",
       "5     object\n",
       "6     object\n",
       "7      int32\n",
       "8     object\n",
       "9     object\n",
       "10    object\n",
       "dtype: object"
      ]
     },
     "execution_count": 8,
     "metadata": {},
     "output_type": "execute_result"
    }
   ],
   "source": [
    "df.dtypes"
   ]
  },
  {
   "cell_type": "code",
   "execution_count": 9,
   "metadata": {},
   "outputs": [
    {
     "data": {
      "text/plain": [
       "array(['0', '1'], dtype=object)"
      ]
     },
     "execution_count": 9,
     "metadata": {},
     "output_type": "execute_result"
    }
   ],
   "source": [
    "df[10].unique()"
   ]
  },
  {
   "cell_type": "code",
   "execution_count": 10,
   "metadata": {},
   "outputs": [],
   "source": [
    "df.to_csv(r\"C:\\Users\\Sam\\Desktop\\skuinfo_clean.csv\", index=False)"
   ]
  }
 ],
 "metadata": {
  "kernelspec": {
   "display_name": "Python 3",
   "language": "python",
   "name": "python3"
  },
  "language_info": {
   "codemirror_mode": {
    "name": "ipython",
    "version": 3
   },
   "file_extension": ".py",
   "mimetype": "text/x-python",
   "name": "python",
   "nbconvert_exporter": "python",
   "pygments_lexer": "ipython3",
   "version": "3.7.4"
  }
 },
 "nbformat": 4,
 "nbformat_minor": 2
}

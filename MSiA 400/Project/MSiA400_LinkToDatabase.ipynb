{
 "cells": [
  {
   "cell_type": "code",
   "execution_count": 1,
   "id": "7e65e5fe",
   "metadata": {},
   "outputs": [
    {
     "name": "stdout",
     "output_type": "stream",
     "text": [
      "Collecting package metadata (current_repodata.json): done\n",
      "Solving environment: done\n",
      "\n",
      "# All requested packages already installed.\n",
      "\n",
      "Retrieving notices: ...working... done\n"
     ]
    }
   ],
   "source": [
    "import sys\n",
    "!{sys.executable} -m conda install psycopg2"
   ]
  },
  {
   "cell_type": "code",
   "execution_count": 2,
   "id": "04e9e852",
   "metadata": {},
   "outputs": [],
   "source": [
    "import psycopg2\n",
    "import pandas as pd"
   ]
  },
  {
   "cell_type": "code",
   "execution_count": null,
   "id": "ba3e897c",
   "metadata": {},
   "outputs": [],
   "source": [
    "password = input(\"Password for MSiA: \")\n",
    "conn = psycopg2.connect(\n",
    "    host=\"pg.analytics.northwestern.edu\",\n",
    "    database=\"2022-everything-team03\",\n",
    "    user=\"smv7369\", #change here\n",
    "    password=password)\n",
    "\n",
    "print(\"Connected.\")\n",
    "cur = conn.cursor()"
   ]
  },
  {
   "cell_type": "code",
   "execution_count": null,
   "id": "db18eae1",
   "metadata": {
    "scrolled": true
   },
   "outputs": [],
   "source": [
    "# Query the database and obtain data as Python objects\n",
    "cur.execute('SELECT * FROM public.\\\"DEPTINFO\\\";')\n",
    "cur.fetchone()\n"
   ]
  },
  {
   "cell_type": "code",
   "execution_count": null,
   "id": "e6686f10",
   "metadata": {},
   "outputs": [],
   "source": [
    "import pandas.io.sql as psql"
   ]
  },
  {
   "cell_type": "code",
   "execution_count": null,
   "id": "d3bf05aa",
   "metadata": {},
   "outputs": [],
   "source": [
    "df = psql.read_sql('SELECT * FROM public.\\\"SKUINFO\\\";', conn)"
   ]
  },
  {
   "cell_type": "code",
   "execution_count": null,
   "id": "8bc55c08",
   "metadata": {
    "scrolled": true
   },
   "outputs": [],
   "source": [
    "display(df)"
   ]
  },
  {
   "cell_type": "markdown",
   "id": "b0095254",
   "metadata": {},
   "source": [
    "df = pd.read_csv(\"deptinfo.csv\")\n",
    "df.to_sql(‘test_schema.dept_python_import’, con=conn, if_exists=’replace’, index=False)\n"
   ]
  },
  {
   "cell_type": "code",
   "execution_count": null,
   "id": "8821165b",
   "metadata": {},
   "outputs": [],
   "source": [
    "# # Make the changes to the database persistent\n",
    "# conn.commit()\n",
    "# Close communication with the database\n",
    "cur.close()\n",
    "conn.close()"
   ]
  },
  {
   "cell_type": "code",
   "execution_count": null,
   "id": "f5df1255",
   "metadata": {},
   "outputs": [],
   "source": []
  }
 ],
 "metadata": {
  "kernelspec": {
   "display_name": "Python 3 (ipykernel)",
   "language": "python",
   "name": "python3"
  },
  "language_info": {
   "codemirror_mode": {
    "name": "ipython",
    "version": 3
   },
   "file_extension": ".py",
   "mimetype": "text/x-python",
   "name": "python",
   "nbconvert_exporter": "python",
   "pygments_lexer": "ipython3",
   "version": "3.9.12"
  }
 },
 "nbformat": 4,
 "nbformat_minor": 5
}

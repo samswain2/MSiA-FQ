{
 "cells": [
  {
   "cell_type": "markdown",
   "metadata": {},
   "source": [
    "## PEP 8 - Style Guide for Python Code\n",
    "\n",
    "http://www.python.org/dev/peps/pep-0008/\n",
    "\n",
    "PEP = Python Enhancement Proposal\n",
    "\n",
    "**Programs must be written for people to read, and only incidentally for machines to execute.**\n",
    "\n",
    "—Abelson & Sussman, Structure and Interpretation of Computer Programs\n",
    "\n",
    "Try to make your programs easy to read and obvious."
   ]
  },
  {
   "cell_type": "markdown",
   "metadata": {},
   "source": [
    "## Indentation\n",
    "\n",
    "* Use 4 spaces per indentation level.\n",
    "* Continuation lines: The 4-space rule is optional."
   ]
  },
  {
   "cell_type": "code",
   "execution_count": null,
   "metadata": {
    "collapsed": true
   },
   "outputs": [],
   "source": [
    "#YES\n",
    "# Aligned with opening delimiter.\n",
    "foo = long_function_name(var_one, var_two,\n",
    "                         var_three, var_four)\n",
    "\n",
    "# More indentation included to distinguish this from the rest.\n",
    "def long_function_name(\n",
    "        var_one, var_two, var_three,\n",
    "        var_four):\n",
    "    print(var_one)\n",
    "\n",
    "# Hanging indents should add a level.\n",
    "foo = long_function_name(\n",
    "    var_one, var_two,\n",
    "    var_three, var_four)"
   ]
  },
  {
   "cell_type": "code",
   "execution_count": null,
   "metadata": {
    "collapsed": true
   },
   "outputs": [],
   "source": [
    "#No:\n",
    "# Arguments on first line forbidden when not using vertical alignment.\n",
    "foo = long_function_name(var_one, var_two,\n",
    "    var_three, var_four)\n",
    "\n",
    "# Further indentation required as indentation is not distinguishable.\n",
    "def long_function_name(\n",
    "    var_one, var_two, var_three,\n",
    "    var_four):\n",
    "    print(var_one)"
   ]
  },
  {
   "cell_type": "markdown",
   "metadata": {},
   "source": [
    "### Tabs or Spaces?\n",
    "\n",
    "* Spaces are the preferred indentation method.\n",
    "* Python 3 disallows mixing the use of tabs and spaces for indentation."
   ]
  },
  {
   "cell_type": "markdown",
   "metadata": {},
   "source": [
    "## Maximum Line Length\n",
    "\n",
    "* Limit all lines to a maximum of 79 characters.\n",
    "* For flowing long blocks of text with fewer structural restrictions (docstrings or comments), limit to 72 characters.\n"
   ]
  },
  {
   "cell_type": "markdown",
   "metadata": {},
   "source": [
    "## Should a line break before or after a binary operator?"
   ]
  },
  {
   "cell_type": "code",
   "execution_count": null,
   "metadata": {
    "collapsed": true
   },
   "outputs": [],
   "source": [
    "# No: operators sit far away from their operands\n",
    "income = (gross_wages +\n",
    "          taxable_interest +\n",
    "          (dividends - qualified_dividends) -\n",
    "          ira_deduction -\n",
    "          student_loan_interest)\n",
    "\n",
    "# Yes: easy to match operators with operands\n",
    "income = (gross_wages\n",
    "          + taxable_interest\n",
    "          + (dividends - qualified_dividends)\n",
    "          - ira_deduction\n",
    "          - student_loan_interest)"
   ]
  },
  {
   "cell_type": "markdown",
   "metadata": {},
   "source": [
    "## Blank Lines\n",
    "* Surround top-level function and class definitions with two blank lines.\n",
    "* Method definitions inside a class are surrounded by a single blank line.\n",
    "* Extra blank lines may be used (sparingly) to separate groups of related functions."
   ]
  },
  {
   "cell_type": "markdown",
   "metadata": {},
   "source": [
    "## Imports\n",
    "\n",
    "* Imports should usually be on separate lines.\n",
    "* Imports are always put at the top of the file, just after any module comments and docstrings, and before module globals and constants.\n",
    "* Imports should be grouped in the following order:\n",
    " * standard library imports\n",
    " * related third party imports\n",
    " * local application/library specific imports\n",
    " * You should put a blank line between each group of imports."
   ]
  },
  {
   "cell_type": "code",
   "execution_count": null,
   "metadata": {
    "collapsed": true
   },
   "outputs": [],
   "source": [
    "#Yes: \n",
    "import os\n",
    "import sys\n",
    "\n",
    "#No:  \n",
    "import sys, os\n",
    "It's okay to say this though."
   ]
  },
  {
   "cell_type": "markdown",
   "metadata": {},
   "source": [
    "## Module level dunder names\n",
    "(i.e. names with two leading and two trailing underscores)\n",
    "\n",
    "* Module level \"dunders\" such as \\_\\_author\\_\\_ , \\_\\_version\\_\\_ , etc. should be placed after the module docstring but before any import statements. \n",
    "* Python mandates that future-imports must appear in the module before any other code except docstrings."
   ]
  },
  {
   "cell_type": "code",
   "execution_count": null,
   "metadata": {
    "collapsed": true
   },
   "outputs": [],
   "source": [
    "\"\"\"This is the example module.\n",
    "\n",
    "This module does stuff.\n",
    "\"\"\"\n",
    "\n",
    "from __future__ import barry_as_FLUFL\n",
    "\n",
    "__all__ = ['a', 'b', 'c']\n",
    "__version__ = '0.1'\n",
    "__author__ = 'Jim John'\n",
    "\n",
    "import os\n",
    "import sys"
   ]
  },
  {
   "cell_type": "markdown",
   "metadata": {},
   "source": [
    "## String Quotes\n",
    "\n",
    "* When a string contains single or double quote characters, however, use the other one to avoid backslashes in the string. It improves readability.\n",
    "* For triple-quoted strings, always use double quote characters to be consistent with the docstring convention in PEP 257 .\n"
   ]
  },
  {
   "cell_type": "markdown",
   "metadata": {},
   "source": [
    "## Whitespace in Expressions and Statements\n",
    "\n",
    "Avoid extraneous whitespace in the following situations:"
   ]
  },
  {
   "cell_type": "code",
   "execution_count": null,
   "metadata": {
    "collapsed": true
   },
   "outputs": [],
   "source": [
    "#Immediately inside parentheses, brackets or braces.\n",
    "#Yes: \n",
    "spam(ham[1], {eggs: 2})\n",
    "#No:  \n",
    "spam( ham[ 1 ], { eggs: 2 } )\n",
    "\n",
    "\n",
    "# Immediately before a comma, semicolon, or colon:\n",
    "#Yes: \n",
    "if x == 4: print x, y; x, y = y, x\n",
    "#No:  \n",
    "if x == 4 : print x , y ; x , y = y , x\n",
    "\n",
    "# Slice the colon acts like a binary operator, and should have equal amounts on either side.\n",
    "#Yes:\n",
    "ham[1:9], ham[1:9:3], ham[:9:3], ham[1::3], ham[1:9:]\n",
    "ham[lower:upper], ham[lower:upper:], ham[lower::step]\n",
    "ham[lower+offset : upper+offset]\n",
    "ham[: upper_fn(x) : step_fn(x)], ham[:: step_fn(x)]\n",
    "ham[lower + offset : upper + offset]\n",
    "#No:\n",
    "ham[lower + offset:upper + offset]\n",
    "ham[1: 9], ham[1 :9], ham[1:9 :3]\n",
    "ham[lower : : upper]\n",
    "ham[ : upper]\n",
    "\n",
    "# Immediately before the open parenthesis that starts the argument list of a function call:\n",
    "#Yes: \n",
    "spam(1)\n",
    "#No: \n",
    "spam (1)\n",
    "\n",
    "# Immediately before the open parenthesis that starts an indexing or slicing:\n",
    "# Yes: \n",
    "dct['key'] = lst[index]\n",
    "# No:  \n",
    "dct ['key'] = lst [index]\n",
    "\n",
    "# More than one space around an assignment (or other) operator to align it with another.\n",
    "# Yes:\n",
    "x = 1\n",
    "y = 2\n",
    "long_variable = 3\n",
    "# No:\n",
    "x             = 1\n",
    "y             = 2\n",
    "long_variable = 3"
   ]
  },
  {
   "cell_type": "markdown",
   "metadata": {},
   "source": [
    "## Other Recommendations\n",
    "* Avoid trailing whitespace anywhere. Because it's usually invisible, it can be confusing: e.g. a backslash followed by a space and a newline does not count as a line continuation marker. Some editors don't preserve it and many projects (like CPython itself) have pre-commit hooks that reject it.\n",
    "\n",
    "* Always surround these binary operators with a single space on either side: assignment ( = ), augmented assignment ( += , -= etc.), comparisons ( == , < , > , != , <> , <= , >= , in , not in , is , is not ), Booleans ( and , or , not ).\n",
    "\n",
    "* If operators with different priorities are used, consider adding whitespace around the operators with the lowest priority(ies). Use your own judgment; however, never use more than one space, and always have the same amount of whitespace on both sides of a binary operator."
   ]
  },
  {
   "cell_type": "code",
   "execution_count": 1,
   "metadata": {
    "collapsed": true
   },
   "outputs": [
    {
     "ename": "NameError",
     "evalue": "name 'i' is not defined",
     "output_type": "error",
     "traceback": [
      "\u001b[1;31m---------------------------------------------------------------------------\u001b[0m",
      "\u001b[1;31mNameError\u001b[0m                                 Traceback (most recent call last)",
      "\u001b[1;32m<ipython-input-1-6a260da8ed78>\u001b[0m in \u001b[0;36m<module>\u001b[1;34m()\u001b[0m\n\u001b[0;32m      1\u001b[0m \u001b[1;31m#Yes:\u001b[0m\u001b[1;33m\u001b[0m\u001b[1;33m\u001b[0m\u001b[0m\n\u001b[1;32m----> 2\u001b[1;33m \u001b[0mi\u001b[0m \u001b[1;33m=\u001b[0m \u001b[0mi\u001b[0m \u001b[1;33m+\u001b[0m \u001b[1;36m1\u001b[0m\u001b[1;33m\u001b[0m\u001b[0m\n\u001b[0m\u001b[0;32m      3\u001b[0m \u001b[0msubmitted\u001b[0m \u001b[1;33m+=\u001b[0m \u001b[1;36m1\u001b[0m\u001b[1;33m\u001b[0m\u001b[0m\n\u001b[0;32m      4\u001b[0m \u001b[0mx\u001b[0m \u001b[1;33m=\u001b[0m \u001b[0mx\u001b[0m\u001b[1;33m*\u001b[0m\u001b[1;36m2\u001b[0m \u001b[1;33m-\u001b[0m \u001b[1;36m1\u001b[0m\u001b[1;33m\u001b[0m\u001b[0m\n\u001b[0;32m      5\u001b[0m \u001b[0mhypot2\u001b[0m \u001b[1;33m=\u001b[0m \u001b[0mx\u001b[0m\u001b[1;33m*\u001b[0m\u001b[0mx\u001b[0m \u001b[1;33m+\u001b[0m \u001b[0my\u001b[0m\u001b[1;33m*\u001b[0m\u001b[0my\u001b[0m\u001b[1;33m\u001b[0m\u001b[0m\n",
      "\u001b[1;31mNameError\u001b[0m: name 'i' is not defined"
     ]
    }
   ],
   "source": [
    "#Yes:\n",
    "i = i + 1\n",
    "submitted += 1\n",
    "x = x*2 - 1\n",
    "hypot2 = x*x + y*y\n",
    "c = (a+b) * (a-b)\n",
    "\n",
    "#No:\n",
    "\n",
    "i=i+1\n",
    "submitted +=1\n",
    "x = x * 2 - 1\n",
    "hypot2 = x * x + y * y\n",
    "c = (a + b) * (a - b)\n",
    "#Don't use spaces around the = sign when used to indicate a keyword argument or a default parameter value."
   ]
  },
  {
   "cell_type": "markdown",
   "metadata": {},
   "source": [
    "## Use consisting formatting for your identifiers!\n",
    "\n",
    "![alt text](images/Python_Naming.png \"Title\")\n",
    "\n",
    "However, the most important thing is not what to standard you follow,\n",
    "but that you are consistent through out all your code!"
   ]
  }
 ],
 "metadata": {
  "kernelspec": {
   "display_name": "Python 3",
   "language": "python",
   "name": "python3"
  },
  "language_info": {
   "codemirror_mode": {
    "name": "ipython",
    "version": 3
   },
   "file_extension": ".py",
   "mimetype": "text/x-python",
   "name": "python",
   "nbconvert_exporter": "python",
   "pygments_lexer": "ipython3",
   "version": "3.8.8"
  }
 },
 "nbformat": 4,
 "nbformat_minor": 1
}

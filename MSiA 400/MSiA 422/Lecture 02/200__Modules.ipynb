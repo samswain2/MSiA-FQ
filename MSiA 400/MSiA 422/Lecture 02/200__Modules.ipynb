{
 "cells": [
  {
   "cell_type": "code",
   "execution_count": null,
   "id": "8acdbe96",
   "metadata": {},
   "outputs": [],
   "source": [
    "!dir"
   ]
  },
  {
   "cell_type": "markdown",
   "id": "4084f271",
   "metadata": {},
   "source": [
    "### Import all by Ref"
   ]
  },
  {
   "cell_type": "code",
   "execution_count": null,
   "id": "2ad3777a",
   "metadata": {},
   "outputs": [],
   "source": [
    "import my_circle "
   ]
  },
  {
   "cell_type": "code",
   "execution_count": null,
   "id": "f57ea8ab",
   "metadata": {},
   "outputs": [],
   "source": [
    "my_circle.area(20)"
   ]
  },
  {
   "cell_type": "code",
   "execution_count": null,
   "id": "87f9acdc",
   "metadata": {},
   "outputs": [],
   "source": [
    "my_circle.radius = 130"
   ]
  },
  {
   "cell_type": "markdown",
   "id": "fa089b97",
   "metadata": {},
   "source": [
    "### Import some components"
   ]
  },
  {
   "cell_type": "code",
   "execution_count": null,
   "id": "18bb1a2b",
   "metadata": {},
   "outputs": [],
   "source": [
    "from my_circle import area"
   ]
  },
  {
   "cell_type": "code",
   "execution_count": null,
   "id": "9901ce6a",
   "metadata": {},
   "outputs": [],
   "source": [
    "dir()"
   ]
  },
  {
   "cell_type": "code",
   "execution_count": null,
   "id": "304b01ed",
   "metadata": {},
   "outputs": [],
   "source": [
    "area(10)"
   ]
  },
  {
   "cell_type": "code",
   "execution_count": null,
   "id": "2b11e38a",
   "metadata": {},
   "outputs": [],
   "source": [
    "from my_square import area"
   ]
  },
  {
   "cell_type": "markdown",
   "id": "91986497",
   "metadata": {},
   "source": [
    "### Import all"
   ]
  },
  {
   "cell_type": "code",
   "execution_count": null,
   "id": "ef048596",
   "metadata": {},
   "outputs": [],
   "source": [
    "from my_circle import *"
   ]
  },
  {
   "cell_type": "code",
   "execution_count": null,
   "id": "9730cea0",
   "metadata": {},
   "outputs": [],
   "source": [
    "dir()"
   ]
  }
 ],
 "metadata": {
  "kernelspec": {
   "display_name": "Python 3 (ipykernel)",
   "language": "python",
   "name": "python3"
  },
  "language_info": {
   "codemirror_mode": {
    "name": "ipython",
    "version": 3
   },
   "file_extension": ".py",
   "mimetype": "text/x-python",
   "name": "python",
   "nbconvert_exporter": "python",
   "pygments_lexer": "ipython3",
   "version": "3.9.12"
  }
 },
 "nbformat": 4,
 "nbformat_minor": 5
}

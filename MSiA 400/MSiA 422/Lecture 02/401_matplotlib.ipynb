{
 "cells": [
  {
   "cell_type": "markdown",
   "metadata": {},
   "source": [
    "## matplotlib \n",
    "\n",
    "* library for making 2D plots of arrays in Python. \n",
    "* written primarily in pure Python\n",
    "* makes heavy use of NumPy and other extension code to provide good performance even for large arrays.\n",
    "* create simple plots with just a few commands\n"
   ]
  },
  {
   "cell_type": "code",
   "execution_count": null,
   "metadata": {},
   "outputs": [],
   "source": [
    "%pylab inline\n",
    "import numpy as np\n",
    "import matplotlib.pyplot as plt"
   ]
  },
  {
   "cell_type": "markdown",
   "metadata": {},
   "source": [
    "### Basic plotting"
   ]
  },
  {
   "cell_type": "code",
   "execution_count": null,
   "metadata": {},
   "outputs": [],
   "source": [
    "x = np.linspace (0 , 10 , 1000000)\n",
    "y = np.cos(x)\n",
    "plt.plot(x,y)\n",
    "plt.show()\n",
    "help(np.linspace)"
   ]
  },
  {
   "cell_type": "markdown",
   "metadata": {},
   "source": [
    "## Basic plotting - Colours, markers, line styles\n",
    "* colours: r, g, b, c, m, y, k, w\n",
    "* markers: . , o v ^ < > * + x and more\n",
    "* line style: - -- -. :\n",
    "* line width (lw) and marker size (ms) as keyword arguments"
   ]
  },
  {
   "cell_type": "code",
   "execution_count": null,
   "metadata": {},
   "outputs": [],
   "source": [
    "x = np.linspace (0 , 10 , 2000)\n",
    "y = np.sin(x)\n",
    "plt.plot(x, y, 'g+--',\n",
    "         x, np.cos(x) , 'm>-',\n",
    "         lw =10 , ms =5)\n",
    "plt.show ()\n"
   ]
  },
  {
   "cell_type": "markdown",
   "metadata": {},
   "source": [
    "## Scatter plots with scatter"
   ]
  },
  {
   "cell_type": "code",
   "execution_count": null,
   "metadata": {},
   "outputs": [],
   "source": [
    "#help(np.random.normal)\n",
    "#help(plt.scatter)\n",
    "z=np.random.normal (5,2,(2,100)) #Unpack\n",
    "x,y = z\n",
    "print(x)\n",
    "print(y)"
   ]
  },
  {
   "cell_type": "code",
   "execution_count": null,
   "metadata": {},
   "outputs": [],
   "source": [
    "# c is color\n",
    "# s is marker size\n",
    "x,y=np.random.normal (5,2,(2,100))\n",
    "plt.scatter (x,y,c=x+y, s=10*x - 10 * y)\n",
    "plt.show()\n",
    "\n",
    "#print(x)\n"
   ]
  },
  {
   "cell_type": "markdown",
   "metadata": {},
   "source": [
    "## Histograms\n"
   ]
  },
  {
   "cell_type": "code",
   "execution_count": null,
   "metadata": {},
   "outputs": [],
   "source": [
    "x,y=np.random.triangular (5 ,7 ,10 ,(2 ,1000))\n",
    "plt.hist (x, 50 , normed =1 , facecolor ='r')\n",
    "plt.show ()"
   ]
  },
  {
   "cell_type": "markdown",
   "metadata": {},
   "source": [
    "## Contour lines"
   ]
  },
  {
   "cell_type": "code",
   "execution_count": null,
   "metadata": {},
   "outputs": [],
   "source": [
    "xx = yy = np.linspace(-5,5)\n",
    "#xx ,yy = np.meshgrid(xx,yy)\n",
    "zz = np.fromfunction(\n",
    "                    lambda i,j: np.cos(xx[i]**2+yy[j]**2)*np.exp(-(xx[i]**2+ yy[j]**2)/10),\n",
    "                    (50 ,50) , dtype =int)\n",
    "plt.contourf (xx ,yy ,zz)\n",
    "plt.show ()\n"
   ]
  },
  {
   "cell_type": "markdown",
   "metadata": {},
   "source": [
    "\n",
    "\n"
   ]
  },
  {
   "cell_type": "markdown",
   "metadata": {},
   "source": [
    "### Samples\n",
    "\n",
    "http://matplotlib.org/gallery.html"
   ]
  }
 ],
 "metadata": {
  "kernelspec": {
   "display_name": "Python 3 (ipykernel)",
   "language": "python",
   "name": "python3"
  },
  "language_info": {
   "codemirror_mode": {
    "name": "ipython",
    "version": 3
   },
   "file_extension": ".py",
   "mimetype": "text/x-python",
   "name": "python",
   "nbconvert_exporter": "python",
   "pygments_lexer": "ipython3",
   "version": "3.9.12"
  }
 },
 "nbformat": 4,
 "nbformat_minor": 1
}

{
 "cells": [
  {
   "cell_type": "markdown",
   "metadata": {},
   "source": [
    "# Calss\n",
    "\n",
    "### constructor ... Instantiation ... Instance variable ... Instance methods"
   ]
  },
  {
   "cell_type": "code",
   "execution_count": null,
   "metadata": {},
   "outputs": [],
   "source": [
    "# create myFirstClass\n",
    "# show instance\n",
    "# dir()"
   ]
  },
  {
   "cell_type": "code",
   "execution_count": 1,
   "metadata": {},
   "outputs": [
    {
     "data": {
      "text/plain": [
       "['__class__',\n",
       " '__delattr__',\n",
       " '__dir__',\n",
       " '__doc__',\n",
       " '__eq__',\n",
       " '__format__',\n",
       " '__ge__',\n",
       " '__getattribute__',\n",
       " '__gt__',\n",
       " '__hash__',\n",
       " '__init__',\n",
       " '__init_subclass__',\n",
       " '__le__',\n",
       " '__lt__',\n",
       " '__ne__',\n",
       " '__new__',\n",
       " '__reduce__',\n",
       " '__reduce_ex__',\n",
       " '__repr__',\n",
       " '__setattr__',\n",
       " '__sizeof__',\n",
       " '__str__',\n",
       " '__subclasshook__']"
      ]
     },
     "execution_count": 1,
     "metadata": {},
     "output_type": "execute_result"
    }
   ],
   "source": [
    "dir(object)"
   ]
  },
  {
   "cell_type": "code",
   "execution_count": null,
   "metadata": {},
   "outputs": [],
   "source": [
    "class myFirstClass(object):\n",
    "\n",
    "    def __init__(self,name):\n",
    "        self.msg = 'Hi'\n",
    "        self.name = name\n",
    "        \n",
    "    def sayMsg(self):\n",
    "        print(self.msg + '  ' + self.name)\n",
    "        \n",
    "        \n"
   ]
  },
  {
   "cell_type": "code",
   "execution_count": null,
   "metadata": {},
   "outputs": [],
   "source": [
    "x = myFirstClass('Jim')\n"
   ]
  },
  {
   "cell_type": "code",
   "execution_count": null,
   "metadata": {},
   "outputs": [],
   "source": [
    "\n",
    "x.sayMsg()"
   ]
  },
  {
   "cell_type": "code",
   "execution_count": null,
   "metadata": {},
   "outputs": [],
   "source": [
    "x.sayMsg()"
   ]
  },
  {
   "cell_type": "code",
   "execution_count": null,
   "metadata": {},
   "outputs": [],
   "source": [
    "dir(x)"
   ]
  },
  {
   "cell_type": "markdown",
   "metadata": {},
   "source": [
    "### Overview of OOP Terminology\n",
    "* **Class:** A user-defined prototype for an object that defines a set of attributes that characterize any object of the class. The attributes are data members\n",
    "classvariablesandinstancevariables and methods, accessed via dot notation.\n",
    "* **Class variable:** A variable that is shared by all instances of a class. Class variables are\n",
    "defined within a class but outside any of the class's methods. Class variables are not used as\n",
    "frequently as instance variables are.\n",
    "* **Data member:** A class variable or instance variable that holds data associated with a class\n",
    "and its objects.\n",
    "* **Function overloading:** The assignment of more than one behavior to a particular function.\n",
    "The operation performed varies by the types of objects or arguments involved.\n",
    "* **Instance variable:** A variable that is defined inside a method and belongs only to the\n",
    "current instance of a class.\n",
    "* **Inheritance:** The transfer of the characteristics of a class to other classes that are derived\n",
    "from it.\n",
    "* **Instance:** An individual object of a certain class. An object obj that belongs to a class Circle,\n",
    "for example, is an instance of the class Circle.\n",
    "* **Instantiation:** The creation of an instance of a class.\n",
    "Method : A special kind of function that is defined in a class definition.\n",
    "* **Object:** A unique instance of a data structure that's defined by its class. An object comprises\n",
    "both data members classvariablesandinstancevariables and methods.\n",
    "* **Operator overloading:** The assignment of more than one function to a particular operator.\n",
    "Creating Classes\n",
    "\n",
    "https://www.tutorialspoint.com/python/pdf/python_classes_objects.pdf\n",
    "\n"
   ]
  },
  {
   "cell_type": "markdown",
   "metadata": {},
   "source": [
    "## Objects and Classes\n",
    "* data structures has classes (e.g. dict(), list(), ..."
   ]
  },
  {
   "cell_type": "code",
   "execution_count": 2,
   "metadata": {},
   "outputs": [
    {
     "name": "stdout",
     "output_type": "stream",
     "text": [
      "The area is:  78.53981633974483\n",
      "The area is:  153.93804002589985\n",
      "The area is:  81\n",
      "The area is:  28.274333882308138\n",
      "The area is:  144\n"
     ]
    }
   ],
   "source": [
    "class Square(object):\n",
    "    def __init__(self, x):\n",
    "        self.side = x\n",
    "    def calculateArea(self):\n",
    "        return self.side**2\n",
    "    \n",
    "    \n",
    "class Circle:\n",
    "    def __init__(self, radius):\n",
    "        self.radius = radius\n",
    "    def calculateArea(self):\n",
    "        import math\n",
    "        return math.pi*(self.radius**2)\n",
    "\n",
    "    \n",
    "    \n",
    "shapes = [Circle(5),Circle(7),Square(9),Circle(3),Square(12)]\n",
    "\n",
    "for item in shapes:\n",
    "    print(\"The area is: \", item.calculateArea())"
   ]
  },
  {
   "cell_type": "markdown",
   "metadata": {},
   "source": [
    "## Inheritance / overloading"
   ]
  },
  {
   "cell_type": "code",
   "execution_count": null,
   "metadata": {},
   "outputs": [],
   "source": [
    "help(object)\n",
    "dir(object)"
   ]
  },
  {
   "cell_type": "markdown",
   "metadata": {},
   "source": [
    "# overloading ... printing ... compare"
   ]
  },
  {
   "cell_type": "code",
   "execution_count": 5,
   "metadata": {},
   "outputs": [],
   "source": [
    "class Person(object):\n",
    "    def __init__(self,fname,lname,age):\n",
    "        self.first_name = fname\n",
    "        self.last_name = lname\n",
    "        self.age = age\n",
    "    \n",
    "    def __eq__(self,other):\n",
    "        if self.age == other.age:\n",
    "            return True\n",
    "        else:\n",
    "            return False\n",
    "        \n",
    "    def __lt__(self,other):\n",
    "        if self.age < other.age:\n",
    "            return True\n",
    "        else:\n",
    "            return False\n",
    "    def __gt__(self,other):\n",
    "        if self.age > other.age:\n",
    "            return True\n",
    "        else:\n",
    "            return False\n",
    "        \n",
    "    def __str__(self):\n",
    "        return self.last_name \n",
    "    \n",
    "    def __repr__(self):\n",
    "        return self.last_name + ', ' + self.first_name + '( age ' + str(self.age) + ')'\n",
    "  \n",
    "    def IsLegalAge(self):\n",
    "        if self.age >= 18:\n",
    "            return True\n",
    "        else:\n",
    "            return False\n",
    "    def FullName(self):\n",
    "        return \"%s, %s\" % (self.last_name,self.first_name)\n"
   ]
  },
  {
   "cell_type": "code",
   "execution_count": 6,
   "metadata": {},
   "outputs": [],
   "source": [
    "p1 = Person('frank','yaagoub',48)\n",
    "p2 = Person('jim','smith',10)\n",
    "p3 = Person('alec','xyz',20)"
   ]
  },
  {
   "cell_type": "code",
   "execution_count": 8,
   "metadata": {},
   "outputs": [
    {
     "data": {
      "text/plain": [
       "True"
      ]
     },
     "execution_count": 8,
     "metadata": {},
     "output_type": "execute_result"
    }
   ],
   "source": [
    "p1.IsLegalAge()"
   ]
  },
  {
   "cell_type": "code",
   "execution_count": 9,
   "metadata": {},
   "outputs": [],
   "source": [
    "class Student(object):\n",
    "    \n",
    "    def __init__(self,fname,lname,age):\n",
    "        self.FirstName = fname\n",
    "        self.LastName = lname\n",
    "        self.__Age = age \n",
    "    def __str__(self):\n",
    "        return self.FirstName + \" \" + self.LastName\n",
    "    \n",
    "    def FullName(self):\n",
    "        return self.LastName + \", \" + self.FirstName\n",
    "    def isLegalAge(self):\n",
    "        return self.__Age >= 21\n",
    "    \n",
    "    def __add__(self,p1,p2):\n",
    "        return p1.Age + p2.__Age\n",
    "    \n",
    "    #def __repr__(self):\n",
    "    #    return self.FirstName + \" \" + self.LastName"
   ]
  },
  {
   "cell_type": "code",
   "execution_count": 10,
   "metadata": {},
   "outputs": [],
   "source": [
    "s1 = Student('Alec','James',20)"
   ]
  },
  {
   "cell_type": "code",
   "execution_count": 11,
   "metadata": {},
   "outputs": [],
   "source": [
    "s2 = Student('Jim','Dan',30)"
   ]
  },
  {
   "cell_type": "code",
   "execution_count": 12,
   "metadata": {},
   "outputs": [],
   "source": [
    "class Point(object):\n",
    "    #GLOBAL VARIABLES\n",
    "    def __init__(self,x,y):\n",
    "            self.x = x\n",
    "            self.y = y\n",
    "    def __str__(self):\n",
    "        return \"(%d,%d)\" % (self.x,self.y)\n",
    "    \n",
    "    def InQuadrent(self):\n",
    "        pass\n",
    "    \n",
    "    def distFromOrigin(self):\n",
    "        import math\n",
    "        return math.sqrt((self.x)**2 + (self.y)**2)\n",
    "    \n",
    "    def __add__(self,other):\n",
    "        return Point(self.x+other.x,self.y+other.y)\n",
    "    \n",
    "    def __eq__(self,other):\n",
    "        return self.x == other.x and self.y == other.y\n",
    "        #return self.distFromOrigin() == other.distFromOrigin()\n",
    "    \n",
    "    def __le__(self,other):\n",
    "        return self.distFromOrigin() < other.distFromOrigin()\n",
    "    \n",
    "    def __gt__(self,other):\n",
    "        return self.distFromOrigin() > other.distFromOrigin()\n",
    "    \n",
    "    def __repr__(self):\n",
    "        return \"(%d,%d)\" % (self.x,self.y)\n",
    "    \n",
    "    def MoveUp(self,dist):\n",
    "        self.y += dist\n",
    "\n"
   ]
  },
  {
   "cell_type": "code",
   "execution_count": 13,
   "metadata": {},
   "outputs": [
    {
     "name": "stdout",
     "output_type": "stream",
     "text": [
      "(3,4)\n",
      "None\n",
      "5.0\n"
     ]
    }
   ],
   "source": [
    "p1 = Point(3,4)\n",
    "print(p1)\n",
    "print(p1.InQuadrent())\n",
    "print(p1.distFromOrigin())"
   ]
  },
  {
   "cell_type": "code",
   "execution_count": 14,
   "metadata": {},
   "outputs": [
    {
     "name": "stdout",
     "output_type": "stream",
     "text": [
      "(1,1) (2,2) (3,3)\n",
      "True\n"
     ]
    }
   ],
   "source": [
    "p1 = Point(1,1)\n",
    "p2 = Point(2,2)\n",
    "\n",
    "p3 = p1 + p2\n",
    "print(p1,p2,p3)\n",
    "print (p1 < p2)"
   ]
  },
  {
   "cell_type": "code",
   "execution_count": null,
   "metadata": {},
   "outputs": [],
   "source": [
    "p1 = Point(1,1)\n",
    "p2 = Point(2,2)\n",
    "p3 = Point(1,1)\n",
    "print(p1 == p2)\n",
    "print(p1 == p3)"
   ]
  },
  {
   "cell_type": "code",
   "execution_count": 15,
   "metadata": {},
   "outputs": [],
   "source": [
    "L = [Point(1,1),Point(3,3),Point(4,4)]"
   ]
  },
  {
   "cell_type": "code",
   "execution_count": 16,
   "metadata": {},
   "outputs": [
    {
     "data": {
      "text/plain": [
       "[(1,1), (3,3), (4,4)]"
      ]
     },
     "execution_count": 16,
     "metadata": {},
     "output_type": "execute_result"
    }
   ],
   "source": [
    "L.sort()\n",
    "L"
   ]
  },
  {
   "cell_type": "code",
   "execution_count": 17,
   "metadata": {},
   "outputs": [
    {
     "data": {
      "text/plain": [
       "(3,6)"
      ]
     },
     "execution_count": 17,
     "metadata": {},
     "output_type": "execute_result"
    }
   ],
   "source": [
    "p1 = Point(3,4)\n",
    "p1.MoveUp(2)\n",
    "p1"
   ]
  },
  {
   "cell_type": "code",
   "execution_count": 18,
   "metadata": {},
   "outputs": [
    {
     "name": "stdout",
     "output_type": "stream",
     "text": [
      "(2,4) (2,4)\n"
     ]
    }
   ],
   "source": [
    "a1 = Point(2,3)\n",
    "a2 = a1\n",
    "a1.MoveUp(1)\n",
    "print(a1,a2)"
   ]
  },
  {
   "cell_type": "markdown",
   "metadata": {},
   "source": [
    "### Class variable:** A variable that is shared by all instances of a class"
   ]
  },
  {
   "cell_type": "code",
   "execution_count": 21,
   "metadata": {},
   "outputs": [],
   "source": [
    "class Person:\n",
    "    TotalPersons = 0\n",
    "    \n",
    "    def __init__(self,name,age):\n",
    "        self.name = name\n",
    "        self.age = age\n",
    "        self.ID = Person.TotalPersons\n",
    "        Person.TotalPersons += 1\n",
    "        print(self.name,\" -- added.\")\n",
    "        \n",
    "    def __del__(self):\n",
    "        Person.TotalPersons -= 1\n",
    "        print(self.name,\" -- removed.\")\n",
    "        \n",
    "    def isLegalAge(self):\n",
    "        return self.age > 18\n",
    "    \n",
    "    def __str__(self):\n",
    "        return \"Name: %s  --- Age: %d\" % (self.name ,self.age)\n",
    "    \n",
    "    def __eq__(self,otherPerson):\n",
    "        return self.age == otherPerson.age\n",
    "    \n",
    "    def __le__(self,otherPerson):\n",
    "        return self.age <= otherPerson.age\n",
    "    \n",
    "    def __lt__(self,otherPerson):\n",
    "        return self.age < otherPerson.age\n",
    "    "
   ]
  },
  {
   "cell_type": "code",
   "execution_count": null,
   "metadata": {},
   "outputs": [],
   "source": [
    "del p1,p2,p3"
   ]
  },
  {
   "cell_type": "code",
   "execution_count": null,
   "metadata": {},
   "outputs": [],
   "source": [
    "#Object instances\n",
    "p1 = Person('Mike',48)\n",
    "p2 = Person('Jim',17)\n",
    "p3 = Person('Alec',40)\n",
    "\n"
   ]
  },
  {
   "cell_type": "code",
   "execution_count": 20,
   "metadata": {},
   "outputs": [
    {
     "ename": "AttributeError",
     "evalue": "'Point' object has no attribute 'name'",
     "output_type": "error",
     "traceback": [
      "\u001b[1;31m---------------------------------------------------------------------------\u001b[0m",
      "\u001b[1;31mAttributeError\u001b[0m                            Traceback (most recent call last)",
      "Input \u001b[1;32mIn [20]\u001b[0m, in \u001b[0;36m<cell line: 1>\u001b[1;34m()\u001b[0m\n\u001b[1;32m----> 1\u001b[0m \u001b[43mp2\u001b[49m\u001b[38;5;241;43m.\u001b[39;49m\u001b[43mname\u001b[49m\n",
      "\u001b[1;31mAttributeError\u001b[0m: 'Point' object has no attribute 'name'"
     ]
    }
   ],
   "source": [
    "p2.name\n"
   ]
  },
  {
   "cell_type": "code",
   "execution_count": null,
   "metadata": {},
   "outputs": [],
   "source": [
    "print(Person.TotalPersons)"
   ]
  },
  {
   "cell_type": "code",
   "execution_count": null,
   "metadata": {},
   "outputs": [],
   "source": [
    "p2.isLegalAge()"
   ]
  },
  {
   "cell_type": "code",
   "execution_count": null,
   "metadata": {},
   "outputs": [],
   "source": [
    "p1 > p3"
   ]
  },
  {
   "cell_type": "markdown",
   "metadata": {},
   "source": [
    "## Inheritance"
   ]
  },
  {
   "cell_type": "code",
   "execution_count": null,
   "metadata": {},
   "outputs": [],
   "source": [
    "class Employee(Person):\n",
    "    \n",
    "    def __init__(self,name,age,department,salary):\n",
    "        Person.__init__(self,name,age)\n",
    "        self.department = department\n",
    "        self.salary = salary\n",
    "    def __str__(self):\n",
    "        return \"Name: %s  --- Age: %d   department: %s\" % (self.name ,self.age,self.department)"
   ]
  },
  {
   "cell_type": "code",
   "execution_count": null,
   "metadata": {},
   "outputs": [],
   "source": [
    "p = Employee('John',30,'CS',100) # Create an empty employee record"
   ]
  },
  {
   "cell_type": "code",
   "execution_count": null,
   "metadata": {},
   "outputs": [],
   "source": [
    "p."
   ]
  },
  {
   "cell_type": "code",
   "execution_count": null,
   "metadata": {},
   "outputs": [],
   "source": [
    "# Fill the fields of the record\n",
    "p.name = 'John Doe'\n",
    "p.age = 30\n",
    "p.dept = 'computer lab'\n",
    "p.salary = 1000\n",
    "print(p)"
   ]
  },
  {
   "cell_type": "markdown",
   "metadata": {},
   "source": [
    "## Private ... Protected ... Public"
   ]
  },
  {
   "cell_type": "code",
   "execution_count": null,
   "metadata": {},
   "outputs": [],
   "source": [
    "class A():\n",
    "    def __init__(self):\n",
    "        self.x = 100\n",
    "        self.x2 = 100\n",
    "        self._y = 1\n",
    "        self.__z = 2\n",
    "        \n",
    "    def __getZ(self):\n",
    "        return self.__z\n",
    "    "
   ]
  },
  {
   "cell_type": "code",
   "execution_count": null,
   "metadata": {},
   "outputs": [],
   "source": [
    "tst = A()\n",
    "#tst.__z\n",
    "#print(tst.__z)\n",
    "#print(tst.getZ())\n",
    "#print(tst.__z)\n"
   ]
  },
  {
   "cell_type": "code",
   "execution_count": null,
   "metadata": {},
   "outputs": [],
   "source": [
    "tst."
   ]
  },
  {
   "cell_type": "code",
   "execution_count": null,
   "metadata": {},
   "outputs": [],
   "source": [
    "tst.getZ()"
   ]
  },
  {
   "cell_type": "markdown",
   "metadata": {},
   "source": [
    "# Setter/Getter  ... Private variables and methods"
   ]
  },
  {
   "cell_type": "code",
   "execution_count": null,
   "metadata": {},
   "outputs": [],
   "source": [
    "class Person(object):\n",
    "    \n",
    "    def __init__ (self,a_first_name,a_last_name,an_age,a_gender):\n",
    "        self.first_name = a_first_name\n",
    "        self.last_name = a_last_name\n",
    "        self.age = an_age\n",
    "        self.__gender = a_gender\n",
    " \n",
    "    def IsLegalAge(self):\n",
    "        return self.age >= 21\n",
    "    \n",
    "    def FullName(self):\n",
    "        return self.__getX() + self.first_name + ' ' + self.last_name\n",
    "    \n",
    "    def setGender(self,a_gender):\n",
    "        if a_gender in ['Male','Female']:\n",
    "            self.__gender = a_gender\n",
    "            \n",
    "    def getGender(self):\n",
    "        return self.__gender"
   ]
  },
  {
   "cell_type": "code",
   "execution_count": null,
   "metadata": {},
   "outputs": [],
   "source": [
    "v = Person('Jim','Hpogan',30,'Male')"
   ]
  },
  {
   "cell_type": "code",
   "execution_count": null,
   "metadata": {},
   "outputs": [],
   "source": [
    "print(v.getGender())"
   ]
  },
  {
   "cell_type": "code",
   "execution_count": null,
   "metadata": {},
   "outputs": [],
   "source": [
    "v.setGender('Female')\n",
    "print(v.getGender())"
   ]
  },
  {
   "cell_type": "markdown",
   "metadata": {
    "collapsed": true
   },
   "source": [
    "## Data Structure - Example\n",
    "* <h>Stack</h>"
   ]
  },
  {
   "cell_type": "code",
   "execution_count": null,
   "metadata": {},
   "outputs": [],
   "source": [
    "class myStack:\n",
    "    def __init__(self):\n",
    "        self.contents = []\n",
    "    \n",
    "    def push(self,val):\n",
    "        self.contents.append(val)\n",
    "        \n",
    "    def pop(self):\n",
    "            if len(self.contents) > 0:\n",
    "                x = self.contents[len(self.contents) - 1]\n",
    "                del(self.contents[len(self.contents) - 1])\n",
    "                return x\n",
    "            else:\n",
    "                return None\n",
    "                \n",
    "    def isEmpty(self):\n",
    "        return len(self.contents) == 0\n"
   ]
  },
  {
   "cell_type": "code",
   "execution_count": null,
   "metadata": {},
   "outputs": [],
   "source": [
    " \n",
    "s1 = myStack()\n",
    "\n",
    "print(s1.contents)\n",
    "s1.push('a')\n",
    "s1.push('b')\n",
    "s1.push('c')\n",
    "print(s1.contents)"
   ]
  },
  {
   "cell_type": "code",
   "execution_count": null,
   "metadata": {},
   "outputs": [],
   "source": [
    "type(s1)"
   ]
  },
  {
   "cell_type": "code",
   "execution_count": null,
   "metadata": {},
   "outputs": [],
   "source": [
    "dir(s1)"
   ]
  },
  {
   "cell_type": "code",
   "execution_count": null,
   "metadata": {},
   "outputs": [],
   "source": [
    "print(s1.pop())\n",
    "print(s1.contents)"
   ]
  },
  {
   "cell_type": "code",
   "execution_count": null,
   "metadata": {},
   "outputs": [],
   "source": [
    "print(s1.pop())\n",
    "print(s1.contents)"
   ]
  },
  {
   "cell_type": "code",
   "execution_count": null,
   "metadata": {},
   "outputs": [],
   "source": [
    "print(s1.isEmpty())"
   ]
  },
  {
   "cell_type": "code",
   "execution_count": null,
   "metadata": {},
   "outputs": [],
   "source": []
  }
 ],
 "metadata": {
  "kernelspec": {
   "display_name": "Python 3 (ipykernel)",
   "language": "python",
   "name": "python3"
  },
  "language_info": {
   "codemirror_mode": {
    "name": "ipython",
    "version": 3
   },
   "file_extension": ".py",
   "mimetype": "text/x-python",
   "name": "python",
   "nbconvert_exporter": "python",
   "pygments_lexer": "ipython3",
   "version": "3.9.12"
  }
 },
 "nbformat": 4,
 "nbformat_minor": 1
}

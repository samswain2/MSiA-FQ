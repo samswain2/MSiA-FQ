{
 "cells": [
  {
   "cell_type": "markdown",
   "metadata": {},
   "source": [
    "## WEB API\n",
    "* GET/SUBMIT\n",
    "\n",
    "\n"
   ]
  },
  {
   "cell_type": "markdown",
   "metadata": {
    "collapsed": true
   },
   "source": [
    "### Geo - Google\n",
    "\n",
    "### Google Finance\n",
    "\n",
    "### Yahoo Finance"
   ]
  },
  {
   "cell_type": "markdown",
   "metadata": {},
   "source": [
    "## International Space Station\n",
    "\n",
    "http://open-notify.org/\n",
    "\n",
    "Current Location: \n",
    "http://api.open-notify.org/iss-now.json"
   ]
  },
  {
   "cell_type": "markdown",
   "metadata": {},
   "source": [
    "###### Given a location on Earth (latitude, longitude, and altitude) this API will compute the next n number of times that the ISS will be overhead.\n",
    "\n",
    "http://open-notify.org/Open-Notify-API/ISS-Pass-Times/\n",
    "\n",
    "This api has been removed."
   ]
  },
  {
   "cell_type": "code",
   "execution_count": null,
   "metadata": {},
   "outputs": [],
   "source": [
    "import requests\n",
    "\n",
    "# This gets the same data as the command above\n",
    "response = requests.get(\"http://api.open-notify.org/iss-pass.json?lat=40.71&lon=-74\")\n",
    "result = response.json()\n",
    "\n",
    "result\n"
   ]
  },
  {
   "cell_type": "code",
   "execution_count": null,
   "metadata": {},
   "outputs": [],
   "source": [
    "#How many people are currently in space. \n",
    "from pprint import pprint\n",
    "\n",
    "# Get the response from the API endpoint.\n",
    "response = requests.get(\"http://api.open-notify.org/astros.json\")\n",
    "data = response.json()\n",
    "\n",
    "# 9 people are currently in space.\n",
    "print(data[\"number\"])\n",
    "pprint(data)\n"
   ]
  },
  {
   "cell_type": "markdown",
   "metadata": {
    "collapsed": true
   },
   "source": [
    "### Weather\n",
    "\n",
    "http://openweathermap.org/current\n",
    "\n",
    "units=imperial, ...\n",
    "zip=60439,us\n",
    "q=Chicago,us\n",
    "mode=XML HTML JSON\n",
    "\n",
    "# Get a Key\n",
    "    \n",
    "http://api.openweathermap.org/data/2.5/weather?q=Lemont&units=imperial&mode=XML&APPID=209492cfd0ebe5c30f4274837204b746\n",
    "        "
   ]
  },
  {
   "cell_type": "code",
   "execution_count": null,
   "metadata": {},
   "outputs": [],
   "source": [
    "# By City and country\n",
    "\n",
    "from pprint import pprint\n",
    "import requests\n",
    "r = requests.get('http://api.openweathermap.org/data/2.5/weather?' +\n",
    "                 'q=Evanston,us&units=imperial&APPID=209492cfd0ebe5c30f4274837204b746')\n",
    "pprint(r.json())"
   ]
  },
  {
   "cell_type": "code",
   "execution_count": null,
   "metadata": {},
   "outputs": [],
   "source": [
    "# By Zip code\n",
    "\n",
    "from pprint import pprint\n",
    "import requests\n",
    "r = requests.get('http://api.openweathermap.org/data/2.5/weather?' +\n",
    "                 'zip=60439&units=imperial&APPID=209492cfd0ebe5c30f4274837204b746')\n",
    "pprint(r.json())"
   ]
  },
  {
   "cell_type": "markdown",
   "metadata": {},
   "source": [
    "# API Directory on the Web\n",
    "https://www.programmableweb.com/apis/directory\n",
    "\n",
    "GPS\n",
    "\n",
    "STOCKS\n",
    "\n",
    "LinkedIn"
   ]
  }
 ],
 "metadata": {
  "kernelspec": {
   "display_name": "Python 3",
   "language": "python",
   "name": "python3"
  },
  "language_info": {
   "codemirror_mode": {
    "name": "ipython",
    "version": 3
   },
   "file_extension": ".py",
   "mimetype": "text/x-python",
   "name": "python",
   "nbconvert_exporter": "python",
   "pygments_lexer": "ipython3",
   "version": "3.7.4"
  }
 },
 "nbformat": 4,
 "nbformat_minor": 1
}
